{
  "cells": [
    {
      "cell_type": "markdown",
      "source": [
        "# ATP Tennis Match Prediction Project\n",
        "\n",
        "## Introduction\n",
        "Welcome to the ATP Tennis Match Prediction project! This notebook showcases a comprehensive machine learning workflow designed to predict the outcomes of ATP (Association of Tennis Professionals) tennis matches using historical data spanning from 2000 to 2024. Built as a portfolio piece, this project demonstrates proficiency in data preprocessing, feature engineering, and predictive modeling, with a focus on delivering actionable insights for tennis enthusiasts and data scientists alike.\n",
        "\n",
        "The dataset is sourced from Jeff Sackmann's `tennis_atp` repository on GitHub, which provides detailed match, ranking, and player information. By transforming raw tennis statistics into meaningful predictive features and employing a Gradient Boosting Classifier optimized with Bayesian search, this project achieves robust performance while respecting the temporal nature of the data.\n",
        "\n",
        "## Objectives\n",
        "The primary goal is to predict the winner of a tennis match as a binary classification problem (Player 1 wins = 0, Player 2 wins = 1). To achieve this, the project:\n",
        "- Cleans and preprocesses historical ATP match data.\n",
        "- Engineers advanced features such as win rates, serve statistics, break point performance, head-to-head records, and player form indicators.\n",
        "- Trains and optimizes a machine learning model using time-series cross-validation to ensure temporal consistency.\n",
        "- Evaluates the model's performance on a test set covering recent years (2022-2024).\n",
        "\n",
        "This work not only highlights technical skills but also reflects a deep understanding of tennis dynamics, making it a compelling case study for sports analytics.\n",
        "\n",
        "## Dataset\n",
        "The project leverages the following datasets from the `tennis_atp` repository:\n",
        "- **Matches**: Annual CSV files (`atp_matches_YYYY.csv`) from 1968 to 2024, containing match details such as player IDs, scores, rankings, and serve statistics. However in this notebook, I will only use 2000 to 2024 for computational problems.\n",
        "- **Rankings**: Decade-based CSV files (`atp_rankings_YYs.csv`) for historical player rankings.\n",
        "- **Players**: A single CSV file (`atp_players.csv`) with player metadata (e.g., height, hand, date of birth).\n",
        "\n",
        "The training set covers 2000-2021, and testing uses 2022-2024, ensuring a realistic evaluation on recent data.\n",
        "\n",
        "## Methodology\n",
        "The workflow is structured as follows:\n",
        "\n",
        "### 1. Data Loading and Preprocessing\n",
        "- **Loading**: Custom functions aggregate match, ranking, and player data across multiple years.\n",
        "- **Cleaning**: Missing values are handled strategically (e.g., height imputed with 0 and flagged, ranks imputed with KNN).\n",
        "- **Target Balancing**: To avoid bias where \"winner\" is always Player 1, the dataset is randomly flipped (50% chance of swapping Player 1 and Player 2), creating a balanced target variable (`winner`: 0 or 1).\n",
        "\n",
        "### 2. Feature Engineering\n",
        "A robust pipeline generates predictive features, ensuring no data leakage by excluding current match data from historical calculations:\n",
        "- **Win Rates**: Overall, surface-specific, and rolling win rates adjusted with a Bayesian approach to stabilize estimates for players with few matches.\n",
        "- **Serve Statistics**: First serve percentage, win percentages on first/second serves, aces, and double faults per match.\n",
        "- **Break Point Performance**: Save and conversion rates, reflecting pressure-handling ability.\n",
        "- **Head-to-Head (H2H)**: Historical win-loss records between opponents.\n",
        "- **Player Form**: Recent game counts and ranking point changes over time.\n",
        "- **Categorical Encoding**: One-hot encoding for tournament levels, surfaces, and rounds.\n",
        "\n",
        "### 3. Modeling\n",
        "- **Pipeline**: A scikit-learn `Pipeline` integrates feature selection (`VarianceThreshold`, `SelectKBest`), standardization (`StandardScaler`), and a `GradientBoostingClassifier`.\n",
        "- **Optimization**: Bayesian search (`BayesSearchCV`) tunes hyperparameters over a time-series split (5 folds) to maximize accuracy while respecting match chronology.\n",
        "- **Evaluation**: Cross-validation scores and test accuracy assess model performance.\n"
      ],
      "metadata": {
        "id": "24eGwpzhRHDM"
      }
    },
    {
      "cell_type": "code",
      "source": [
        "import numpy as np # linear algebra\n",
        "import pandas as pd\n",
        "import matplotlib.pyplot as plt\n",
        "import seaborn as sns\n",
        "import re\n",
        "from datetime import datetime, timedelta\n",
        "from sklearn.base import BaseEstimator, TransformerMixin\n",
        "from sklearn.impute import KNNImputer, SimpleImputer # Added SimpleImputer\n",
        "from sklearn.preprocessing import StandardScaler, MinMaxScaler, FunctionTransformer, OneHotEncoder # Added MinMaxScaler\n",
        "from sklearn.pipeline import Pipeline\n",
        "from sklearn.compose import ColumnTransformer\n",
        "from sklearn.model_selection import TimeSeriesSplit, cross_val_score, GridSearchCV, RandomizedSearchCV\n",
        "from sklearn.ensemble import RandomForestClassifier, GradientBoostingClassifier, AdaBoostClassifier\n",
        "from sklearn.metrics import confusion_matrix, ConfusionMatrixDisplay\n",
        "\n",
        "import tensorflow as tf"
      ],
      "metadata": {
        "id": "KpN1X3LQnDP9"
      },
      "execution_count": 57,
      "outputs": []
    },
    {
      "cell_type": "markdown",
      "source": [
        "# Download Data"
      ],
      "metadata": {
        "id": "PdprXFSFRLGr"
      }
    },
    {
      "cell_type": "code",
      "source": [
        "try:\n",
        "    from google.colab import drive\n",
        "    drive.mount('/content/drive')\n",
        "    # Adjust paths if using Google Drive\n",
        "    DRIVE_PATH = '/content/drive/MyDrive/ATP/'\n",
        "except ImportError:\n",
        "    print(\"Google Colab environment not detected. Using relative paths.\")\n",
        "    # Define alternative base path if not in Colab\n",
        "    DRIVE_PATH = './' # Or specify the correct local path\n",
        "\n",
        "np.random.seed(42)\n",
        "\n",
        "pd.set_option('display.max_columns', None)"
      ],
      "metadata": {
        "colab": {
          "base_uri": "https://localhost:8080/"
        },
        "id": "JLYkldAfnOkf",
        "outputId": "d5478130-5fc9-40d6-991e-92ce9a573b8a"
      },
      "execution_count": 4,
      "outputs": [
        {
          "output_type": "stream",
          "name": "stdout",
          "text": [
            "Drive already mounted at /content/drive; to attempt to forcibly remount, call drive.mount(\"/content/drive\", force_remount=True).\n"
          ]
        }
      ]
    },
    {
      "cell_type": "code",
      "source": [
        "# Define paths using the base path\n",
        "# Assuming the 'tennis_atp-master' directory is within DRIVE_PATH\n",
        "BASE_TENNIS_PATH = DRIVE_PATH + 'tennis_atp-master/'\n",
        "MATCH_PATH = BASE_TENNIS_PATH + \"atp_matches_\"\n",
        "RANKINGS_PATH = BASE_TENNIS_PATH + \"atp_rankings_\"\n",
        "PLAYERS_PATH = BASE_TENNIS_PATH + \"atp_players.csv\"\n",
        "\n",
        "def load_match(start, end):\n",
        "    \"\"\"\n",
        "    This function load the matches from start to end, from the atp matches files\n",
        "    \"\"\"\n",
        "    dataset = []\n",
        "    for i in range(start, end+1):\n",
        "        path = MATCH_PATH + f\"{i}.csv\"\n",
        "        df = pd.read_csv(path)\n",
        "        dataset.append(df)\n",
        "    dataset = pd.concat(dataset, ignore_index=True)\n",
        "    return dataset\n",
        "\n",
        "date_rankings=[0,1,2,7,8,9]\n",
        "def load_rankings():\n",
        "    \"\"\"\n",
        "    This function load the rankings from date_rankings\n",
        "    \"\"\"\n",
        "    dataset = []\n",
        "    for i in date_rankings:\n",
        "        path = RANKINGS_PATH + f\"{i}0s.csv\"\n",
        "        df = pd.read_csv(path)\n",
        "        dataset.append(df)\n",
        "    dataset = pd.concat(dataset, ignore_index=True)\n",
        "    return dataset\n",
        "\n",
        "def load_players():\n",
        "    \"\"\"\n",
        "    This function loads the players from the atp_players files\n",
        "    \"\"\"\n",
        "    df = pd.read_csv(PLAYERS_PATH)\n",
        "    return df"
      ],
      "metadata": {
        "id": "yBszFdAknWXD"
      },
      "execution_count": 5,
      "outputs": []
    },
    {
      "cell_type": "code",
      "source": [
        "# --- Load Rankings/Players (Optional, uncomment if needed) ---\n",
        "# def load_rankings(): ... (as before)\n",
        "# def load_players(): ... (as before)\n",
        "\n",
        "# --- Initial Data Loading ---\n",
        "print(\"--- Starting Data Loading ---\")\n",
        "full_dataset = load_match(2010, 2024)\n",
        "\n",
        "print(f\"Shape of raw dataset: {full_dataset.shape}\")\n",
        "\n",
        "print(\"\\n--- End of Loading ---\")"
      ],
      "metadata": {
        "colab": {
          "base_uri": "https://localhost:8080/"
        },
        "id": "Z_l7nWBTna9f",
        "outputId": "7a9fe1f9-2ea8-4a32-ff02-73ea6f5e79a2"
      },
      "execution_count": 6,
      "outputs": [
        {
          "output_type": "stream",
          "name": "stdout",
          "text": [
            "--- Starting Data Loading ---\n",
            "Shape of raw dataset: (42571, 49)\n",
            "\n",
            "--- End of Loading ---\n"
          ]
        }
      ]
    },
    {
      "cell_type": "code",
      "source": [
        "print(f\"Shape of dataset : {full_dataset.shape}\")\n",
        "\n",
        "test_data = full_dataset.copy()\n",
        "test_data = test_data.drop(['winner_seed', 'loser_seed', 'winner_entry', 'loser_entry', 'loser_ht', 'winner_ht'], axis=1)\n",
        "num_rows_with_nan = test_data.isna().any(axis=1).sum()\n",
        "print(f\"Number of rows with at least 1 NaN value = {num_rows_with_nan}\")\n",
        "\n",
        "for col in test_data.columns:\n",
        "    print(f\"Colonne problématique : {col:<20} | Nombre de NaN : {test_data[col].isna().sum():>10} => {(test_data[col].isna().mean()*100):.1f}%\")"
      ],
      "metadata": {
        "colab": {
          "base_uri": "https://localhost:8080/"
        },
        "collapsed": true,
        "id": "mdSWRBhK7JSM",
        "outputId": "dfd91a4a-75e7-4213-9e95-125223ad7af2"
      },
      "execution_count": 7,
      "outputs": [
        {
          "output_type": "stream",
          "name": "stdout",
          "text": [
            "Shape of dataset : (42571, 49)\n",
            "Number of rows with at least 1 NaN value = 4744\n",
            "Colonne problématique : tourney_id           | Nombre de NaN :          0 => 0.0%\n",
            "Colonne problématique : tourney_name         | Nombre de NaN :          0 => 0.0%\n",
            "Colonne problématique : surface              | Nombre de NaN :         53 => 0.1%\n",
            "Colonne problématique : draw_size            | Nombre de NaN :          0 => 0.0%\n",
            "Colonne problématique : tourney_level        | Nombre de NaN :          0 => 0.0%\n",
            "Colonne problématique : tourney_date         | Nombre de NaN :          0 => 0.0%\n",
            "Colonne problématique : match_num            | Nombre de NaN :          0 => 0.0%\n",
            "Colonne problématique : winner_id            | Nombre de NaN :          0 => 0.0%\n",
            "Colonne problématique : winner_name          | Nombre de NaN :          0 => 0.0%\n",
            "Colonne problématique : winner_hand          | Nombre de NaN :          0 => 0.0%\n",
            "Colonne problématique : winner_ioc           | Nombre de NaN :          0 => 0.0%\n",
            "Colonne problématique : winner_age           | Nombre de NaN :          3 => 0.0%\n",
            "Colonne problématique : loser_id             | Nombre de NaN :          0 => 0.0%\n",
            "Colonne problématique : loser_name           | Nombre de NaN :          0 => 0.0%\n",
            "Colonne problématique : loser_hand           | Nombre de NaN :          4 => 0.0%\n",
            "Colonne problématique : loser_ioc            | Nombre de NaN :          0 => 0.0%\n",
            "Colonne problématique : loser_age            | Nombre de NaN :          3 => 0.0%\n",
            "Colonne problématique : score                | Nombre de NaN :          0 => 0.0%\n",
            "Colonne problématique : best_of              | Nombre de NaN :          0 => 0.0%\n",
            "Colonne problématique : round                | Nombre de NaN :          0 => 0.0%\n",
            "Colonne problématique : minutes              | Nombre de NaN :       4383 => 10.3%\n",
            "Colonne problématique : w_ace                | Nombre de NaN :       2742 => 6.4%\n",
            "Colonne problématique : w_df                 | Nombre de NaN :       2742 => 6.4%\n",
            "Colonne problématique : w_svpt               | Nombre de NaN :       2742 => 6.4%\n",
            "Colonne problématique : w_1stIn              | Nombre de NaN :       2742 => 6.4%\n",
            "Colonne problématique : w_1stWon             | Nombre de NaN :       2742 => 6.4%\n",
            "Colonne problématique : w_2ndWon             | Nombre de NaN :       2742 => 6.4%\n",
            "Colonne problématique : w_SvGms              | Nombre de NaN :       2742 => 6.4%\n",
            "Colonne problématique : w_bpSaved            | Nombre de NaN :       2742 => 6.4%\n",
            "Colonne problématique : w_bpFaced            | Nombre de NaN :       2742 => 6.4%\n",
            "Colonne problématique : l_ace                | Nombre de NaN :       2742 => 6.4%\n",
            "Colonne problématique : l_df                 | Nombre de NaN :       2742 => 6.4%\n",
            "Colonne problématique : l_svpt               | Nombre de NaN :       2742 => 6.4%\n",
            "Colonne problématique : l_1stIn              | Nombre de NaN :       2742 => 6.4%\n",
            "Colonne problématique : l_1stWon             | Nombre de NaN :       2742 => 6.4%\n",
            "Colonne problématique : l_2ndWon             | Nombre de NaN :       2742 => 6.4%\n",
            "Colonne problématique : l_SvGms              | Nombre de NaN :       2742 => 6.4%\n",
            "Colonne problématique : l_bpSaved            | Nombre de NaN :       2742 => 6.4%\n",
            "Colonne problématique : l_bpFaced            | Nombre de NaN :       2742 => 6.4%\n",
            "Colonne problématique : winner_rank          | Nombre de NaN :        262 => 0.6%\n",
            "Colonne problématique : winner_rank_points   | Nombre de NaN :        262 => 0.6%\n",
            "Colonne problématique : loser_rank           | Nombre de NaN :        671 => 1.6%\n",
            "Colonne problématique : loser_rank_points    | Nombre de NaN :        671 => 1.6%\n"
          ]
        }
      ]
    },
    {
      "cell_type": "markdown",
      "source": [
        "# Feature Engineering"
      ],
      "metadata": {
        "id": "HZuvpCynRRGk"
      }
    },
    {
      "cell_type": "code",
      "source": [
        "def flip_dataset(df):\n",
        "    \"\"\"\n",
        "    This function transforms the original dataset by randomly swapping winner/loser\n",
        "    information to create a balanced dataset for predicting match outcomes.\n",
        "    \"\"\"\n",
        "    print(\"Flip dataset starting ...\")\n",
        "\n",
        "    df_flipped = df.copy()\n",
        "\n",
        "    # Create a random mask with 50% probability of True for each row.\n",
        "    # This mask determines which rows will have their winner/loser data swapped.\n",
        "    flip_mask = np.random.rand(len(df_flipped)) > 0.5\n",
        "\n",
        "    # Create a 'winner' column indicating the outcome after the potential swap.\n",
        "    # 1: Player 2 wins (winner/loser data swapped)\n",
        "    # 0: Player 1 wins (winner/loser data remains as is)\n",
        "    df_flipped[\"winner\"] = np.where(flip_mask, 1, 0)\n",
        "\n",
        "    # Itera through columns to swap winner/loser columns based on the flip mask\n",
        "    for col in df_flipped.columns:\n",
        "        if col.startswith(\"winner_\"):\n",
        "            loser_col = \"loser_\" + col[len(\"winner_\"):]\n",
        "            if loser_col in df_flipped.columns:\n",
        "                temp = df_flipped.loc[flip_mask, col].copy()\n",
        "                df_flipped.loc[flip_mask, col] = df_flipped.loc[flip_mask, loser_col]\n",
        "                df_flipped.loc[flip_mask, loser_col] = temp\n",
        "\n",
        "    # Rename the columns to player1 and player2\n",
        "    rename_dict = {}\n",
        "    for col in df_flipped.columns:\n",
        "        if col.startswith(\"winner_\"):\n",
        "            rename_dict[col] = \"player1_\" + col[len(\"winner_\"):]\n",
        "        elif col.startswith(\"w_\"):\n",
        "            rename_dict[col] = \"player1_\" + col[len(\"w_\"):]\n",
        "        elif col.startswith(\"loser_\") :\n",
        "            rename_dict[col] = \"player2_\" + col[len(\"loser_\"):]\n",
        "        elif col.startswith(\"l_\"):\n",
        "            rename_dict[col] = \"player2_\" + col[len(\"l_\"):]\n",
        "\n",
        "    # Apply the column renaming to the dataframe.\n",
        "    df_flipped = df_flipped.rename(columns=rename_dict)\n",
        "\n",
        "    print(\"Flip dataset ended.\")\n",
        "    return df_flipped"
      ],
      "metadata": {
        "id": "D276NbNSnd-U"
      },
      "execution_count": 8,
      "outputs": []
    },
    {
      "cell_type": "code",
      "source": [
        "# Dictionary mapping tournament rounds to the number of days since the tournament start date.\n",
        "# This is used to estimate the actual match date based on the tournament start date and the round.\n",
        "round_to_days = {\n",
        "    \"R128\": 0,  # Round of 128 (first round), assumed to be on the tournament start date.\n",
        "    \"R64\":  1,  # Round of 64, assumed to be 1 day after the tournament start date.\n",
        "    \"R32\":  2,  # Round of 32, assumed to be 2 days after the tournament start date.\n",
        "    \"R16\":  3,  # Round of 16, assumed to be 3 days after the tournament start date.\n",
        "    \"QF\":   4,  # Quarterfinals, assumed to be 4 days after the tournament start date.\n",
        "    \"SF\":   5,  # Semifinals, assumed to be 5 days after the tournament start date.\n",
        "    \"F\":    6,  # Final, assumed to be 6 days after the tournament start date.\n",
        "    \"RR\":   0,  # Round Robin, no date adjustment.\n",
        "    \"ER\":   0,  # Early Round, no date adjustment.\n",
        "    \"BR\":   0   # Bronze Round, no date adjustment.\n",
        "}\n",
        "\n",
        "\n",
        "def transform_date(df):\n",
        "    \"\"\"\n",
        "    Transforms the tournament date and round information to estimate the actual match date.\n",
        "    \"\"\"\n",
        "    # Map the 'round' column to the number of days since the tournament start using the 'round_to_days' dictionary.\n",
        "    df[\"round_day\"] = df[\"round\"].map(round_to_days)\n",
        "\n",
        "    # Add the 'round_day' (as a timedelta) to the 'tourney_date' to estimate the 'match_date'.\n",
        "    df[\"match_date\"] = df[\"tourney_date\"] + pd.to_timedelta(df[\"round_day\"], unit=\"d\")\n",
        "\n",
        "    return df"
      ],
      "metadata": {
        "id": "oOU2q8MRnma1"
      },
      "execution_count": 9,
      "outputs": []
    },
    {
      "cell_type": "code",
      "source": [
        "def process_dataset(df):\n",
        "    \"\"\"\n",
        "    Processes the tennis match dataset to prepare it for further analysis.\n",
        "\n",
        "    This function performs the following steps:\n",
        "    1. Converts the 'tourney_date' column to datetime format.\n",
        "    2. Estimates the actual match date using the 'transform_date' function.\n",
        "    3. Sorts the dataset by match date.\n",
        "    4. Creates a unique 'match_id' column.\n",
        "    \"\"\"\n",
        "    # Ensure the 'tourney_date' column is in datetime format.\n",
        "    df[\"tourney_date\"] = pd.to_datetime(df[\"tourney_date\"], format='%Y%m%d', errors=\"coerce\")\n",
        "\n",
        "    # Estimate the actual match date using the 'transform_date' function.\n",
        "    df = transform_date(df)\n",
        "\n",
        "    # Sort the dataset by match date in ascending order.\n",
        "    df = df.sort_values('match_date')\n",
        "\n",
        "    # Create a unique 'match_id' column by resetting the index.\n",
        "    df = df.reset_index(drop=True)  # Reset index to consecutive integers.\n",
        "    df['match_id'] = df.index  # Assign the index as 'match_id'.\n",
        "\n",
        "    return df  # Return the processed dataframe."
      ],
      "metadata": {
        "id": "PlHGokuC6naf"
      },
      "execution_count": 10,
      "outputs": []
    },
    {
      "cell_type": "code",
      "source": [
        "def calculate_number_of_games(score, bestof):\n",
        "    \"\"\"\n",
        "    Calculates the total number of games played in a tennis match based on the score string.\n",
        "    \"\"\"\n",
        "    # Remove any text within parentheses (e.g., tiebreak scores) from the score string.\n",
        "    score = re.sub(r'\\(.*?\\)', '', score)\n",
        "\n",
        "    total_games = 0\n",
        "    sets = score.split()\n",
        "\n",
        "    # Iterate through each set score:\n",
        "    for set_score in sets:\n",
        "        # Split the set score by '-' to get the games won by each player.\n",
        "        # Convert the game scores to integers and sum them to get the total games in the set.\n",
        "        games = sum([int(x) for x in set_score.split('-') if x.isdigit()])\n",
        "        total_games += games\n",
        "\n",
        "    # Return the total number of games played.\n",
        "    return total_games"
      ],
      "metadata": {
        "id": "xObAbBp9nvlO"
      },
      "execution_count": 11,
      "outputs": []
    },
    {
      "cell_type": "code",
      "source": [
        "class ServeStatsImputerV2(BaseEstimator, TransformerMixin):\n",
        "    \"\"\"\n",
        "    Imputes serve stats using historical player data, then historical surface data.\n",
        "    Calculates historical stats dynamically during transform to avoid data leakage.\n",
        "    \"\"\"\n",
        "    def __init__(self, strategy='median', default_fill_value=0):\n",
        "        # Validate strategy\n",
        "        if strategy not in ['mean', 'median']:\n",
        "            raise ValueError(\"Strategy must be either 'mean' or 'median'\")\n",
        "        self.strategy = strategy\n",
        "        self.default_fill_value = default_fill_value\n",
        "        self.base_stats_cols = ['ace', 'df', 'svpt', '1stIn', '1stWon', '2ndWon', 'SvGms', 'bpSaved', 'bpFaced']\n",
        "        self.player1_stats_cols = [f'player1_{col}' for col in self.base_stats_cols]\n",
        "        self.player2_stats_cols = [f'player2_{col}' for col in self.base_stats_cols]\n",
        "        self.all_stats_cols = self.player1_stats_cols + self.player2_stats_cols\n",
        "\n",
        "    def fit(self, X, y=None):\n",
        "        # No fitting needed as calculations are historical and done in transform\n",
        "        # print(\"ServeStatsImputerV2: No fitting required.\")\n",
        "        return self\n",
        "\n",
        "    def transform(self, X):\n",
        "        X_transformed = X.copy()\n",
        "\n",
        "        # 1. Reshape to long format for easier historical calculation\n",
        "        df1 = X_transformed[['match_id', 'match_date', 'player1_id', 'surface'] + self.player1_stats_cols].rename(columns={'player1_id': 'player_id'})\n",
        "        df1.columns = [col.replace('player1_', '') if col.startswith('player1_') else col for col in df1.columns]\n",
        "        df1['role'] = 'player1'\n",
        "\n",
        "        df2 = X_transformed[['match_id', 'match_date', 'player2_id', 'surface'] + self.player2_stats_cols].rename(columns={'player2_id': 'player_id'})\n",
        "        df2.columns = [col.replace('player2_', '') if col.startswith('player2_') else col for col in df2.columns]\n",
        "        df2['role'] = 'player2'\n",
        "\n",
        "        df_long = pd.concat([df1, df2], ignore_index=True)\n",
        "\n",
        "        # Sort chronologically for expanding calculations\n",
        "        df_long = df_long.sort_values(by=['match_date', 'match_id', 'player_id']).reset_index(drop=True) # Ensure stable sort\n",
        "\n",
        "        # 2. Calculate Historical Stats (Player and Surface) using Expanding Window\n",
        "        # Choose aggregation function based on strategy\n",
        "        agg_func = self.strategy # 'mean' or 'median'\n",
        "\n",
        "        # Calculate historical stats dynamically to avoid leakage\n",
        "        # Group by player, shift data by 1 to exclude current match, then calculate expanding agg\n",
        "        gb_player = df_long.groupby('player_id')[self.base_stats_cols]\n",
        "        # shift(1) ensures we only use past data for the expanding calculation\n",
        "        historical_player_stats_df = gb_player.shift(1).expanding().agg(agg_func)\n",
        "        historical_player_stats_df.columns = [f'{col}_player_hist' for col in self.base_stats_cols]\n",
        "\n",
        "        # Group by surface, shift, calculate expanding agg\n",
        "        # Note: Surface history is less common, might result in many NaNs initially\n",
        "        gb_surface = df_long.groupby('surface')[self.base_stats_cols]\n",
        "        historical_surface_stats_df = gb_surface.shift(1).expanding().agg(agg_func)\n",
        "        historical_surface_stats_df.columns = [f'{col}_surface_hist' for col in self.base_stats_cols]\n",
        "\n",
        "        # Combine historical stats back with the long dataframe\n",
        "        # Indices should align due to sorting and standard pandas operations\n",
        "        df_long = pd.concat([df_long, historical_player_stats_df, historical_surface_stats_df], axis=1)\n",
        "\n",
        "        # 3. Impute Missing Values Sequentially\n",
        "        # print(\"  Imputing missing values sequentially...\")\n",
        "        for col in self.base_stats_cols:\n",
        "            player_hist_col = f'{col}_player_hist'\n",
        "            surface_hist_col = f'{col}_surface_hist'\n",
        "\n",
        "            # Check if the original column exists before trying to fillna\n",
        "            if col in df_long.columns:\n",
        "                # Fill NaNs in original stat column first with player history, then surface history\n",
        "                # Use .loc to avoid potential SettingWithCopyWarning if df_long was sliced\n",
        "                df_long.loc[:, col] = df_long[col].fillna(df_long[player_hist_col])\n",
        "                df_long.loc[:, col] = df_long[col].fillna(df_long[surface_hist_col])\n",
        "                # Fill any remaining NaNs with the default value\n",
        "                df_long.loc[:, col] = df_long[col].fillna(self.default_fill_value)\n",
        "            else:\n",
        "                print(f\"Warning: Original column '{col}' not found during imputation.\")\n",
        "\n",
        "\n",
        "            # Clean up historical columns (optional, saves memory)\n",
        "            if player_hist_col in df_long.columns:\n",
        "                 df_long = df_long.drop(columns=[player_hist_col])\n",
        "            if surface_hist_col in df_long.columns:\n",
        "                 df_long = df_long.drop(columns=[surface_hist_col])\n",
        "\n",
        "\n",
        "        # 4. Reshape back to wide format (player1_stat, player2_stat)\n",
        "        # print(\"  Reshaping back to wide format...\")\n",
        "\n",
        "        # Select relevant columns before pivoting\n",
        "        # Ensure 'surface' is kept if needed, though it's usually dropped later\n",
        "        cols_to_keep_long = ['match_id', 'role'] + self.base_stats_cols\n",
        "        df_long_final_stats = df_long[cols_to_keep_long]\n",
        "\n",
        "        # Pivot the statistics columns\n",
        "        try:\n",
        "            df_pivot = df_long_final_stats.pivot(index='match_id', columns='role', values=self.base_stats_cols)\n",
        "            # Flatten MultiIndex columns (e.g., ('ace', 'player1') -> 'player1_ace')\n",
        "            df_pivot.columns = [f'{role}_{stat}' for stat, role in df_pivot.columns]\n",
        "            df_pivot = df_pivot.reset_index() # Bring match_id back as a column\n",
        "        except Exception as e:\n",
        "            print(f\"Error during pivoting: {e}\")\n",
        "            print(\"Check for duplicate match_id/role combinations if error persists.\")\n",
        "            # Handle error, maybe return original X or raise\n",
        "            raise e\n",
        "\n",
        "\n",
        "        # 5. Merge imputed stats back into the original DataFrame structure\n",
        "        # Drop original (potentially unimputed) stats columns first\n",
        "        X_transformed = X_transformed.drop(columns=self.all_stats_cols, errors='ignore')\n",
        "        # Merge based on match_id\n",
        "        X_transformed = X_transformed.merge(df_pivot, on='match_id', how='left')\n",
        "\n",
        "        # Verify columns after merge\n",
        "        final_cols_present = [col for col in self.all_stats_cols if col in X_transformed.columns]\n",
        "        if len(final_cols_present) != len(self.all_stats_cols):\n",
        "             missing_final_cols = set(self.all_stats_cols) - set(final_cols_present)\n",
        "             print(f\"Warning: Some stats columns might be missing after merge/pivot: {missing_final_cols}\")\n",
        "\n",
        "        # print(\"ServeStatsImputerV2: Transformation complete.\")\n",
        "        return X_transformed"
      ],
      "metadata": {
        "id": "M60C4Y-8_C8T"
      },
      "execution_count": 12,
      "outputs": []
    },
    {
      "cell_type": "code",
      "source": [
        "# OK\n",
        "def impute_surface(df):\n",
        "    \"\"\"\n",
        "    Imputes missing surface values using the mode.\n",
        "    \"\"\"\n",
        "\n",
        "    print(\"Imputing missing surface values...\")\n",
        "\n",
        "    df[\"surface\"] = df[\"surface\"].fillna(df[\"surface\"].mode()[0])\n",
        "\n",
        "    print(\"Missing values surfaces imputed.\")\n",
        "    return df"
      ],
      "metadata": {
        "id": "DPsZh4H7n38N"
      },
      "execution_count": 13,
      "outputs": []
    },
    {
      "cell_type": "code",
      "source": [
        "# OK\n",
        "def minutes_Imputer(df):\n",
        "    \"\"\"\n",
        "    Imputes missing minutes using MEDIAN based on Number of Games\n",
        "    \"\"\"\n",
        "    print(\"Imputing missing minutes with median...\")\n",
        "\n",
        "    # Calculate helper features if needed\n",
        "    if 'numberofGames' not in df.columns or 'numberofSets' not in df.columns:\n",
        "        print(\"Calculating helper features for minutes imputation...\")\n",
        "        if 'score' not in df.columns: print(\"Error: 'score' column needed.\"); return df\n",
        "        if 'best_of' not in df.columns: print(\"Warning: 'best_of' column missing, defaulting to 3.\"); df['best_of'] = 3\n",
        "\n",
        "        print(\"Compute number of games and sets...\")\n",
        "        df[\"numberofGames\"] = df.apply(lambda row: calculate_number_of_games(row['score'], row['best_of']), axis=1)\n",
        "        df[\"numberofSets\"] = df[\"score\"].apply(lambda x: len(re.sub(r'\\(.*?\\)', '', str(x)).split()) if pd.notna(x) and str(x) not in ['W/O', 'RET', 'Def.', 'Walkover', 'Default'] else 0)\n",
        "        print(\"number of games/sets ok.\")\n",
        "\n",
        "    # Impute 'minutes' based on median per number of games\n",
        "    imputation_values_by_games = df.groupby('numberofGames')['minutes'].transform(\"median\")\n",
        "    imputation_values_by_set = df.groupby('numberofSets')['minutes'].transform(\"median\")\n",
        "\n",
        "    # Check if 'minutes' column has missing values\n",
        "    if df['minutes'].isnull().any():\n",
        "        df['minutes'] = df['minutes'].fillna(imputation_values_by_games)\n",
        "        df['minutes'] = df['minutes'].fillna(imputation_values_by_set)\n",
        "\n",
        "    if df['minutes'].isna().sum() > 0:\n",
        "      print(\"ERROR MISSING VAL\")\n",
        "    # Optionally drop helper columns if not needed later (keep if used in delete_Features_v2)\n",
        "    # df = df.drop(columns=['numberofGames', 'numberofSets'], errors='ignore')\n",
        "    print(\"Minutes Imputed OK\")\n",
        "    return df"
      ],
      "metadata": {
        "id": "iguBpJ53n9BE"
      },
      "execution_count": 14,
      "outputs": []
    },
    {
      "cell_type": "code",
      "source": [
        "#OK\n",
        "def get_minutes_played_recent(df, date_window=14):\n",
        "  \"\"\"\n",
        "  Calculates the total minutes played by each player in recent matches.\n",
        "  Determined by the date_window parameter.\n",
        "  \"\"\"\n",
        "  print(\"Start get_minutes_played_recent...\")\n",
        "\n",
        "  df_test = pd.concat([\n",
        "      df[['match_id', 'match_date', 'player1_id', 'minutes']].rename(columns={'player1_id': 'player_id'}).assign(role='player1'),\n",
        "      df[['match_id', 'match_date', 'player2_id', 'minutes']].rename(columns={'player2_id': 'player_id'}).assign(role='player2')\n",
        "  ])\n",
        "\n",
        "  df_test = df_test.sort_values(['player_id', 'match_id']).reset_index(drop=True)\n",
        "\n",
        "  window = f\"{date_window}D\"\n",
        "  df_test[\"minutes_played_recently\"] = (df_test.groupby('player_id')\n",
        "        .apply(lambda x: x.set_index('match_date')['minutes'].rolling(window).sum().values)\n",
        "        .explode().reset_index(drop=True))\n",
        "  df_test[\"minutes_played_recently\"] = (df_test[\"minutes_played_recently\"] - df_test[\"minutes\"]).astype(int)\n",
        "\n",
        "  # Extract stats\n",
        "  player1_stats = df_test[df_test['role'] == 'player1'][['match_id', 'minutes_played_recently']].copy()\n",
        "  player2_stats = df_test[df_test['role'] == 'player2'][['match_id', 'minutes_played_recently']].copy()\n",
        "\n",
        "  player1_stats = player1_stats.rename(columns={'minutes_played_recently': 'player1_minutes_played_recently'})\n",
        "  player2_stats = player2_stats.rename(columns={'minutes_played_recently': 'player2_minutes_played_recently'})\n",
        "\n",
        "  df = df.merge(player1_stats, on='match_id', how='left').merge(player2_stats, on='match_id', how='left')\n",
        "\n",
        "  print(\"End get_minutes_played_recent...\")\n",
        "  return df"
      ],
      "metadata": {
        "id": "lUlpRJrXoCZy"
      },
      "execution_count": 17,
      "outputs": []
    },
    {
      "cell_type": "code",
      "source": [
        "#OK\n",
        "def elo_feature(df, k_factor=32, initial_elo=1500):\n",
        "  \"\"\"\n",
        "  Creates and add Elo ratings features for each player, both globally and per surface.\n",
        "  \"\"\"\n",
        "  print(\"Calculating Elo features...\")\n",
        "\n",
        "  global_elo = {}\n",
        "  surface_elo = {}\n",
        "\n",
        "  # df_test = df[['match_date', 'match_id', 'player1_id', 'player2_id', 'surface']].copy()\n",
        "  df = df.sort_values(by=['match_date', 'match_id']).reset_index(drop=True)\n",
        "\n",
        "  player1_elo = []\n",
        "  player2_elo = []\n",
        "  player1_elo_surface = []\n",
        "  player2_elo_surface = []\n",
        "\n",
        "  for idx, row in df.iterrows():\n",
        "        p1_id = row['player1_id']\n",
        "        p2_id = row['player2_id']\n",
        "        surface = row['surface']\n",
        "        winner = row['winner']\n",
        "\n",
        "        if p1_id not in global_elo:\n",
        "            global_elo[p1_id] = initial_elo\n",
        "        if p2_id not in global_elo:\n",
        "            global_elo[p2_id] = initial_elo\n",
        "\n",
        "        if p1_id not in surface_elo:\n",
        "            surface_elo[p1_id] = {}\n",
        "        if p2_id not in surface_elo:\n",
        "            surface_elo[p2_id] = {}\n",
        "        if surface not in surface_elo[p1_id]:\n",
        "            surface_elo[p1_id][surface] = initial_elo\n",
        "        if surface not in surface_elo[p2_id]:\n",
        "            surface_elo[p2_id][surface] = initial_elo\n",
        "\n",
        "        p1_elo = global_elo[p1_id]\n",
        "        p2_elo = global_elo[p2_id]\n",
        "        p1_elo_surface = surface_elo[p1_id][surface]\n",
        "        p2_elo_surface = surface_elo[p2_id][surface]\n",
        "\n",
        "        player1_elo.append(p1_elo)\n",
        "        player2_elo.append(p2_elo)\n",
        "        player1_elo_surface.append(p1_elo_surface)\n",
        "        player2_elo_surface.append(p2_elo_surface)\n",
        "\n",
        "        expected_p1 = 1 / (1 + 10 ** ((p2_elo - p1_elo) / 400))\n",
        "        expected_p1_surface = 1 / (1 + 10 ** ((p2_elo_surface - p1_elo_surface) / 400))\n",
        "\n",
        "        result = 1 if winner == 0 else 0\n",
        "\n",
        "        global_elo[p1_id] += k_factor * (result - expected_p1)\n",
        "        global_elo[p2_id] += k_factor * (expected_p1 - result)\n",
        "\n",
        "        surface_elo[p1_id][surface] += k_factor * (result - expected_p1_surface)\n",
        "        surface_elo[p2_id][surface] += k_factor * (expected_p1_surface - result)\n",
        "\n",
        "  df['player1_elo'] = player1_elo\n",
        "  df['player2_elo'] = player2_elo\n",
        "  df['player1_elo_surface'] = player1_elo_surface\n",
        "  df['player2_elo_surface'] = player2_elo_surface\n",
        "  df['elo_diff'] = df['player1_elo'] - df['player2_elo']\n",
        "  df['elo_surface_diff'] = df['player1_elo_surface'] - df['player2_elo_surface']\n",
        "\n",
        "  print(\"Elo features calculated\")\n",
        "  return df#, df_test"
      ],
      "metadata": {
        "id": "_T09GG3coET9"
      },
      "execution_count": 18,
      "outputs": []
    },
    {
      "cell_type": "code",
      "source": [
        "# OK\n",
        "def get_h2h_v2(df, date_window=5):\n",
        "    \"\"\"\n",
        "    Calculate weighted head-to-head statistics with exponential decay for older matches.\n",
        "    Also compute the number of matches played between the two players.\n",
        "    \"\"\"\n",
        "    # Select relevant columns for H2H calculation.\n",
        "    df_h2h = df[['match_id', 'match_date', 'player1_id', 'player2_id', 'surface', 'winner']].copy()\n",
        "\n",
        "    # Create a standardized player pair identifier, regardless of column order.\n",
        "    df_h2h['player_pair'] = df_h2h.apply(\n",
        "        lambda row: tuple(sorted([row['player1_id'], row['player2_id']])),\n",
        "        axis=1\n",
        "    )\n",
        "\n",
        "    # Define the match outcome relative to the standardized player pair order.\n",
        "    def outcome(row):\n",
        "        pair = row['player_pair']\n",
        "        if row['player1_id'] == pair[0]:\n",
        "            return 1 if row['winner'] == 0 else 0\n",
        "        else:\n",
        "            return 1 if row['winner'] == 1 else 0\n",
        "\n",
        "    df_h2h['outcome'] = df_h2h.apply(outcome, axis=1)\n",
        "\n",
        "    # Sort matches by date to establish chronological order.\n",
        "    df_h2h = df_h2h.sort_values('match_date').reset_index(drop=True)\n",
        "\n",
        "    # Calculate the cumulative number of matches for each player pair.\n",
        "    df_h2h['cum_matches'] = df_h2h.groupby('player_pair').cumcount()\n",
        "\n",
        "    # Calculate the cumulative wins for the first player in the pair prior to the current match.\n",
        "    df_h2h['cum_wins_first'] = df_h2h.groupby('player_pair')['outcome'].transform(\n",
        "        lambda s: s.cumsum().shift(1, fill_value=0)\n",
        "    )\n",
        "\n",
        "    # MODIFIED SECTION - Calculate recent wins and match counts\n",
        "    # First create shifted outcomes column\n",
        "    df_h2h['shifted_outcome'] = df_h2h.groupby('player_pair')['outcome'].shift(1)\n",
        "\n",
        "    # Calculate rolling stats\n",
        "    df_h2h['recent_cum_wins_first'] = df_h2h.groupby('player_pair')['shifted_outcome'].transform(\n",
        "        lambda x: x.rolling(window=date_window, min_periods=0).sum()\n",
        "    )\n",
        "    df_h2h['recent_matches_count'] = df_h2h.groupby('player_pair')['shifted_outcome'].transform(\n",
        "        lambda x: x.rolling(window=date_window, min_periods=0).count()\n",
        "    )\n",
        "\n",
        "    # Clean up temporary column\n",
        "    df_h2h = df_h2h.drop(columns=['shifted_outcome'])\n",
        "\n",
        "    # Calculate the head-to-head record as the difference between the first player's wins\n",
        "    # and the second player's wins.\n",
        "    df_h2h['historical_h2h'] = 2 * df_h2h['cum_wins_first'] - df_h2h['cum_matches']\n",
        "\n",
        "    # Calculate recent H2H performance\n",
        "    df_h2h['recent_h2h'] = 2 * df_h2h['recent_cum_wins_first'] - df_h2h['recent_matches_count']\n",
        "    df = df.merge(df_h2h[['match_id', 'historical_h2h', 'recent_h2h']], on='match_id', how='left')\n",
        "\n",
        "    return df#, df_h2h"
      ],
      "metadata": {
        "id": "0JvmtMN2oGZu"
      },
      "execution_count": 19,
      "outputs": []
    },
    {
      "cell_type": "code",
      "source": [
        "# ok\n",
        "def serve_stats_rating(df, date_window=365, default_fill=0.5):\n",
        "    \"\"\"\n",
        "    Calculates rolling serve stats and combines them into ratings.\n",
        "    \"\"\"\n",
        "    print(\"Calculating serve stats ratings (Refactored)...\")\n",
        "\n",
        "    X = df.copy()\n",
        "    stats_cols = [\n",
        "        'player1_ace', 'player1_df', 'player1_svpt', 'player1_1stIn', 'player1_1stWon', 'player1_2ndWon', 'player1_SvGms', 'player1_bpSaved', 'player1_bpFaced',\n",
        "        'player2_ace', 'player2_df', 'player2_svpt', 'player2_1stIn', 'player2_1stWon', 'player2_2ndWon', 'player2_SvGms', 'player2_bpSaved', 'player2_bpFaced'\n",
        "    ]\n",
        "    base_stats_cols = ['ace', 'df', 'svpt', '1stIn', '1stWon', '2ndWon', 'SvGms', 'bpSaved', 'bpFaced']\n",
        "\n",
        "    # Create long format\n",
        "    df_long = pd.concat([\n",
        "            X[['match_id', 'match_date', 'player1_id', 'surface'] + [col for col in stats_cols if 'player1' in col]]\n",
        "            .rename(columns={'player1_id': 'player_id'})\n",
        "            .rename(columns=lambda x: x.replace('player1_', '') if 'player1_' in x else x)\n",
        "            .assign(role='player1'),\n",
        "            X[['match_id', 'match_date', 'player2_id', 'surface'] + [col for col in stats_cols if 'player2' in col]]\n",
        "            .rename(columns={'player2_id': 'player_id'})\n",
        "            .rename(columns=lambda x: x.replace('player2_', '') if 'player2_' in x else x)\n",
        "            .assign(role='player2')\n",
        "        ])\n",
        "\n",
        "    df_long = df_long.sort_values(['player_id', 'match_date', 'match_id']).reset_index(drop=True)\n",
        "    df_long = df_long.set_index('match_date')\n",
        "    window = f\"{date_window}D\"\n",
        "\n",
        "    # Compute the number of match played globally and by surface\n",
        "    df_long[\"cum_matches\"] = df_long.groupby('player_id')['player_id'].transform(lambda x: x.rolling(window, closed='left').count() - 1)\n",
        "    df_long[\"cum_matches_by_surface\"] = df_long.groupby(['player_id', 'surface'])['player_id'].transform(lambda x: x.rolling(window, closed='left').count() - 1)\n",
        "\n",
        "    # Calculate all cumulative stats at once generally and by surface\n",
        "    group = df_long.groupby('player_id')\n",
        "    cum_stats = group[base_stats_cols].transform(lambda x: x.rolling(window, closed='left').sum()).add_prefix('cum_')\n",
        "    groupSurface = df_long.groupby(['player_id', 'surface'])\n",
        "\n",
        "    cum_stats_surface = groupSurface[base_stats_cols].transform(lambda x: x.rolling(window, closed='left').sum()).add_prefix('cum_surface_')\n",
        "    df_long = pd.concat([df_long, cum_stats, cum_stats_surface], axis=1)\n",
        "\n",
        "    # Calculate the Serve Statistics generally and by Surface\n",
        "    df_long[\"ratio_first_serve\"] = np.where(df_long['cum_svpt'] > 0, np.round(df_long['cum_1stIn'] / df_long['cum_svpt'], 3), np.nan)\n",
        "    df_long[\"ratio_first_serve_win\"] = np.where(df_long['cum_1stIn'] > 0, np.round(df_long['cum_1stWon'] / df_long['cum_1stIn'], 3), np.nan)\n",
        "    df_long[\"ratio_second_serve_win\"] = np.where((df_long['cum_svpt'] - df_long['cum_1stIn']) > 0, np.round(df_long['cum_2ndWon'] / (df_long['cum_svpt'] - df_long['cum_1stIn']),3), np.nan)\n",
        "    df_long[\"average_ace_per_match\"] = np.where(df_long['cum_matches'] > 0, np.round(df_long['cum_ace'] / df_long['cum_matches'], 2), np.nan)\n",
        "    df_long[\"average_df_per_match\"] = np.where(df_long['cum_matches'] > 0, np.round(df_long['cum_df'] / df_long['cum_matches'], 2), np.nan)\n",
        "    df_long[\"ratio_service_games_won\"] = np.where(df_long['cum_SvGms'] > 0, np.round((df_long[\"cum_SvGms\"] - (df_long[\"cum_bpFaced\"] - df_long[\"cum_bpSaved\"])) / df_long['cum_SvGms'], 2), np.nan)\n",
        "\n",
        "    df_long[\"ratio_first_serve_surface\"] = np.where(df_long['cum_surface_svpt'] > 0, np.round(df_long['cum_surface_1stIn'] / df_long['cum_surface_svpt'], 3), np.nan)\n",
        "    df_long[\"ratio_first_serve_win_surface\"] = np.where(df_long['cum_surface_1stIn'] > 0, np.round(df_long['cum_surface_1stWon'] / df_long['cum_surface_1stIn'], 3), np.nan)\n",
        "    df_long[\"ratio_second_serve_win_surface\"] = np.where((df_long['cum_surface_svpt'] - df_long['cum_surface_1stIn']) > 0, np.round(df_long['cum_surface_2ndWon'] / (df_long['cum_surface_svpt'] - df_long['cum_surface_1stIn']),3), np.nan)\n",
        "    df_long[\"average_ace_per_match_surface\"] = np.where(df_long['cum_matches_by_surface'] > 0, np.round(df_long['cum_surface_ace'] / df_long['cum_matches_by_surface'], 2), np.nan)\n",
        "    df_long[\"average_df_per_match_surface\"] = np.where(df_long['cum_matches_by_surface'] > 0, np.round(df_long['cum_surface_df'] / df_long['cum_matches_by_surface'], 2), np.nan)\n",
        "    df_long[\"ratio_service_games_won_surface\"] = np.where(df_long['cum_surface_SvGms'] > 0, np.round((df_long[\"cum_surface_SvGms\"] - (df_long[\"cum_surface_bpFaced\"] - df_long[\"cum_surface_bpSaved\"])) / df_long['cum_surface_SvGms'], 2), np.nan)\n",
        "\n",
        "\n",
        "\n",
        "    colls_to_fill = ['ratio_first_serve', 'ratio_first_serve_win', 'ratio_second_serve_win', 'average_ace_per_match', 'average_df_per_match', 'ratio_service_games_won']\n",
        "    colls_to_fill_surface = ['ratio_first_serve_surface', 'ratio_first_serve_win_surface', 'ratio_second_serve_win_surface', 'average_ace_per_match_surface', 'average_df_per_match_surface', 'ratio_service_games_won_surface']\n",
        "\n",
        "    # Now we have to fill the missing values. We can distinguish 2 cases :\n",
        "    # 1. If the players hasn't played in the last 6 months\n",
        "    # => We take their last statistics\n",
        "    df_long[colls_to_fill] = df_long.groupby('player_id')[colls_to_fill].ffill()\n",
        "    df_long[colls_to_fill_surface] = df_long.groupby(['player_id', 'surface'])[colls_to_fill_surface].ffill()\n",
        "\n",
        "    # Fill remaining NaNs (new players/surfaces) with a fixed default value\n",
        "    df_long[colls_to_fill] = df_long[colls_to_fill].fillna(default_fill)\n",
        "    df_long[colls_to_fill_surface] = df_long[colls_to_fill_surface].fillna(default_fill) # Simple fill for surface too\n",
        "\n",
        "    # Before computing the Serve Stats Rating and filling the missing values\n",
        "    # We need to normalize the average_ace_per_match and average_df_per_match features\n",
        "    scaler = MinMaxScaler()\n",
        "    df_long[['average_ace_per_match', 'average_df_per_match']] = scaler.fit_transform(df_long[['average_ace_per_match', 'average_df_per_match']])\n",
        "    df_long[['average_ace_per_match_surface', 'average_df_per_match_surface']] = scaler.fit_transform(df_long[['average_ace_per_match_surface', 'average_df_per_match_surface']])\n",
        "\n",
        "\n",
        "    # We can now drop the cumulatives statistics and reset the index\n",
        "    df_long = df_long.drop(columns=cum_stats.columns, errors='ignore')\n",
        "    df_long = df_long.drop(columns=cum_stats_surface.columns, errors='ignore')\n",
        "    df_long = df_long.reset_index()\n",
        "\n",
        "    # Now we determine the weights of each feature inside the Serve Stats Rating depending on the surface:\n",
        "    importances = {\n",
        "        'ratio_first_serve': 0.05, 'ratio_first_serve_win': 0.25, 'ratio_second_serve_win': 0.20, 'average_ace_per_match': 0.10, 'average_df_per_match': 0.05, 'ratio_service_games_won': 0.35,\n",
        "        'ratio_first_serve_Carpet': 0.05, 'ratio_first_serve_win_Carpet': 0.25, 'ratio_second_serve_win_Carpet': 0.20, 'average_ace_per_match_Carpet': 0.10, 'average_df_per_match_Carpet': 0.05, 'ratio_service_games_won_Carpet': 0.35,\n",
        "        'ratio_first_serve_Grass': 0.05, 'ratio_first_serve_win_Grass': 0.30, 'ratio_second_serve_win_Grass': 0.10, 'average_ace_per_match_Grass': 0.15, 'average_df_per_match_Grass': 0.0, 'ratio_service_games_won_Grass': 0.40,\n",
        "        'ratio_first_serve_Clay': 0.05, 'ratio_first_serve_win_Clay': 0.20, 'ratio_second_serve_win_Clay': 0.30, 'average_ace_per_match_Clay': 0.05, 'average_df_per_match_Clay': 0, 'ratio_service_games_won_Clay': 0.40,\n",
        "        'ratio_first_serve_Hard': 0.05, 'ratio_first_serve_win_Hard': 0.25, 'ratio_second_serve_win_Hard': 0.20, 'average_ace_per_match_Hard': 0.10, 'average_df_per_match_Hard': 0.05, 'ratio_service_games_won_Hard': 0.35,\n",
        "    }\n",
        "\n",
        "    # Now we can compute the Serve Stats Ratings global and per surface\n",
        "    df_long[\"serve_stats_rating\"] = df_long.apply(\n",
        "        lambda row: np.round(sum(row[col] * importances[col] for col in colls_to_fill if col != 'average_df_per_match')\n",
        "                           - row['average_df_per_match'] * importances.get(\"average_df_per_match\", 0), 2), axis=1)\n",
        "\n",
        "    df_long[\"serve_stats_rating_surface\"] = df_long.apply(\n",
        "        lambda row: np.round(sum(row[f\"{col}_surface\"] * importances[f\"{col}_{row['surface']}\"] for col in colls_to_fill if col != 'average_df_per_match')\n",
        "                           - row['average_df_per_match_surface'] * importances.get(f\"average_df_per_match_{row['surface']}\", 0), 2), axis=1)\n",
        "\n",
        "    # Now we just have to rename this Stats depending on the player and concatenate with the original DataFrame\n",
        "    player1_stats = df_long[df_long['role'] == 'player1'][['match_id', 'serve_stats_rating', 'serve_stats_rating_surface']].copy()\n",
        "    player2_stats = df_long[df_long['role'] == 'player2'][['match_id', 'serve_stats_rating', 'serve_stats_rating_surface']].copy()\n",
        "\n",
        "    player1_stats = player1_stats.rename(columns={'serve_stats_rating': 'player1_serve_stats_rating', 'serve_stats_rating_surface': 'player1_serve_stats_rating_surface'})\n",
        "    player2_stats = player2_stats.rename(columns={'serve_stats_rating': 'player2_serve_stats_rating', 'serve_stats_rating_surface': 'player2_serve_stats_rating_surface'})\n",
        "\n",
        "    df = df.merge(player1_stats, on='match_id', how='left').merge(player2_stats, on='match_id', how='left')\n",
        "\n",
        "    print(\"Serve stats rating calculation complete (Refactored).\")\n",
        "    return df"
      ],
      "metadata": {
        "id": "ba91oI74oJM_"
      },
      "execution_count": 20,
      "outputs": []
    },
    {
      "cell_type": "code",
      "source": [
        "# OK\n",
        "def return_stats_rating(df, date_window=365, default_fill=0.5, importances=None):\n",
        "    \"\"\"\n",
        "    Calculates rolling return stats and combines them into ratings.\n",
        "    \"\"\"\n",
        "    print(\"Calculating return stats ratings (Refactored)...\")\n",
        "\n",
        "    X = df.copy()\n",
        "    stats_cols = [ # Opponent's serve stats\n",
        "        'player1_svpt', 'player1_1stIn', 'player1_1stWon', 'player1_2ndWon', 'player1_SvGms', 'player1_bpSaved', 'player1_bpFaced',\n",
        "        'player2_svpt', 'player2_1stIn', 'player2_1stWon', 'player2_2ndWon', 'player2_SvGms', 'player2_bpSaved', 'player2_bpFaced'\n",
        "    ]\n",
        "    opp_base_stats_cols = ['svpt', '1stIn', '1stWon', '2ndWon', 'SvGms', 'bpSaved', 'bpFaced']\n",
        "\n",
        "    # To compute Return stats we need for each player his opponents statistics (so we take player2_... stats)\n",
        "    df_long = pd.concat([\n",
        "              X[['match_id', 'match_date', 'player1_id', 'surface'] + [col for col in stats_cols if 'player2' in col]]\n",
        "              .rename(columns={'player1_id': 'player_id'})\n",
        "              .rename(columns=lambda x: x.replace('player2_', '') if 'player2_' in x else x)\n",
        "              .assign(role='player1'),\n",
        "              X[['match_id', 'match_date', 'player2_id', 'surface'] + [col for col in stats_cols if 'player1' in col]]\n",
        "              .rename(columns={'player2_id': 'player_id'})\n",
        "              .rename(columns=lambda x: x.replace('player1_', '') if 'player1_' in x else x)\n",
        "              .assign(role='player2')\n",
        "          ])\n",
        "\n",
        "    df_long = df_long.sort_values(['player_id', 'match_date', 'match_id']).reset_index(drop=True)\n",
        "\n",
        "    df_long = df_long.set_index('match_date')\n",
        "    window = f\"{date_window}D\"\n",
        "\n",
        "    # Calculate all cumulative stats at once generally and by surface\n",
        "    group = df_long.groupby('player_id')\n",
        "    cum_stats = group[['svpt', '1stIn', '1stWon', '2ndWon', 'SvGms', 'bpSaved', 'bpFaced']]\\\n",
        "                    .transform(lambda x: x.rolling(window, min_periods=0, closed='left').sum())\\\n",
        "                    .add_prefix('cum_opp_')\n",
        "\n",
        "    groupSurface = df_long.groupby(['player_id', 'surface'])\n",
        "    cum_stats_surface = groupSurface[['svpt', '1stIn', '1stWon', '2ndWon', 'SvGms', 'bpSaved', 'bpFaced']]\\\n",
        "                    .transform(lambda x: x.rolling(window, min_periods=0, closed='left').sum())\\\n",
        "                    .add_prefix('cum_opp_surface_')\n",
        "\n",
        "    df_long = pd.concat([df_long, cum_stats, cum_stats_surface], axis=1)\n",
        "\n",
        "    # Calculate the Serve Statistics generally and by Surface\n",
        "    df_long[\"ratio_return_1st_serve_won\"] = np.where(df_long['cum_opp_svpt'] > 0, np.round((df_long['cum_opp_1stIn'] - df_long['cum_opp_1stWon'])/ df_long['cum_opp_1stIn'], 3), np.nan)\n",
        "    df_long[\"ratio_return_2nd_serve_won\"] = np.where((df_long['cum_opp_svpt'] - df_long['cum_opp_1stIn']) > 0,\n",
        "                                                    np.round((df_long[\"cum_opp_svpt\"] - df_long['cum_opp_1stIn'] - df_long['cum_opp_2ndWon']) / (df_long['cum_opp_svpt'] - df_long['cum_opp_1stIn']), 3), np.nan)\n",
        "    df_long[\"ratio_return_games_won\"] = np.where(df_long['cum_opp_SvGms'] > 0, np.round((df_long[\"cum_opp_bpFaced\"] - df_long[\"cum_opp_bpSaved\"]) / df_long['cum_opp_SvGms'], 3), np.nan)\n",
        "    df_long[\"ratio_bp_converted\"] = np.where(df_long['cum_opp_bpFaced'] > 0, np.round((df_long['cum_opp_bpFaced'] - df_long[\"cum_opp_bpSaved\"]) / df_long['cum_opp_bpFaced'], 3), np.nan)\n",
        "\n",
        "    df_long[\"ratio_return_1st_serve_won_surface\"] = np.where(df_long['cum_opp_surface_svpt'] > 0, np.round((df_long['cum_opp_surface_1stIn'] - df_long['cum_opp_surface_1stWon'])/ df_long['cum_opp_surface_1stIn'], 3), np.nan)\n",
        "    df_long[\"ratio_return_2nd_serve_won_surface\"] = np.where((df_long['cum_opp_surface_svpt'] - df_long['cum_opp_surface_1stIn']) > 0,\n",
        "                                                    np.round((df_long[\"cum_opp_surface_svpt\"] - df_long['cum_opp_surface_1stIn'] - df_long['cum_opp_surface_2ndWon']) / (df_long['cum_opp_surface_svpt'] - df_long['cum_opp_surface_1stIn']), 3), np.nan)\n",
        "    df_long[\"ratio_return_games_won_surface\"] = np.where(df_long['cum_opp_surface_SvGms'] > 0, np.round((df_long[\"cum_opp_surface_bpFaced\"] - df_long[\"cum_opp_surface_bpSaved\"]) / df_long['cum_opp_surface_SvGms'], 3), np.nan)\n",
        "    df_long[\"ratio_bp_converted_surface\"] = np.where(df_long['cum_opp_surface_bpFaced'] > 0, np.round((df_long['cum_opp_surface_bpFaced'] - df_long[\"cum_opp_surface_bpSaved\"]) / df_long['cum_opp_surface_bpFaced'], 3), np.nan)\n",
        "\n",
        "\n",
        "    colls_to_fill = ['ratio_return_1st_serve_won', 'ratio_return_2nd_serve_won', 'ratio_return_games_won', 'ratio_bp_converted']\n",
        "    colls_to_fill_surface = ['ratio_return_1st_serve_won_surface', 'ratio_return_2nd_serve_won_surface', 'ratio_return_games_won_surface', 'ratio_bp_converted_surface']\n",
        "\n",
        "    # Now we have to fill the missing values. We can distinguish 2 cases :\n",
        "    # 1. If the players hasn't played in the last 6 months\n",
        "    # => We take their last statistics\n",
        "    df_long[colls_to_fill] = df_long.groupby('player_id')[colls_to_fill].ffill()\n",
        "    df_long[colls_to_fill_surface] = df_long.groupby(['player_id', 'surface'])[colls_to_fill_surface].ffill()\n",
        "\n",
        "    df_long[colls_to_fill] = df_long[colls_to_fill].fillna(default_fill)\n",
        "    df_long[colls_to_fill_surface] = df_long[colls_to_fill_surface].fillna(default_fill)\n",
        "\n",
        "    # We Normalize the features so they endup in the same range [0-1]\n",
        "    cols_to_normalize = [\n",
        "        'ratio_return_1st_serve_won', 'ratio_return_2nd_serve_won',\n",
        "        'ratio_return_games_won', 'ratio_bp_converted', 'ratio_return_1st_serve_won_surface',\n",
        "        'ratio_return_2nd_serve_won_surface', 'ratio_return_games_won_surface',\n",
        "        'ratio_bp_converted_surface'\n",
        "    ]\n",
        "    scaler = MinMaxScaler()\n",
        "    df_long[cols_to_normalize] = scaler.fit_transform(df_long[cols_to_normalize])\n",
        "\n",
        "    # We can now drop the cumulatives statistics and reset the index\n",
        "    df_long = df_long.drop(cum_stats.columns, axis=1)\n",
        "    df_long = df_long.drop(cum_stats_surface.columns, axis=1)\n",
        "    df_long = df_long.reset_index()\n",
        "\n",
        "    # Now we determine the weights of each feature inside the Serve Stats Rating depending on the surface:\n",
        "    if importances is None:\n",
        "        importances = {\n",
        "            'ratio_return_1st_serve_won': 0.25, 'ratio_return_2nd_serve_won': 0.2, 'ratio_return_games_won': 0.35, 'ratio_bp_converted': 0.2,\n",
        "            'ratio_return_1st_serve_won_Carpet': 0.25, 'ratio_return_2nd_serve_won_Carpet': 0.2, 'ratio_return_games_won_Carpet': 0.35, 'ratio_bp_converted_Carpet': 0.2,\n",
        "            'ratio_return_1st_serve_won_Grass': 0.3, 'ratio_return_2nd_serve_won_Grass': 0.15, 'ratio_return_games_won_Grass': 0.3, 'ratio_bp_converted_Grass': 0.25,\n",
        "            'ratio_return_1st_serve_won_Clay': 0.2, 'ratio_return_2nd_serve_won_Clay': 0.3, 'ratio_return_games_won_Clay': 0.4, 'ratio_bp_converted_Clay': 0.1,\n",
        "            'ratio_return_1st_serve_won_Hard': 0.25, 'ratio_return_2nd_serve_won_Hard': 0.2, 'ratio_return_games_won_Hard': 0.35, 'ratio_bp_converted_Hard': 0.2,\n",
        "        }\n",
        "\n",
        "    # Now we can compute the Serve Stats Ratings global and per surface\n",
        "    df_long[\"return_stats_rating\"] = df_long.apply(lambda row: np.round(sum(row[col] * importances.get(col, 0) for col in colls_to_fill), 2), axis=1)\n",
        "    df_long[\"return_stats_rating_surface\"] = df_long.apply(lambda row: np.round(sum(row[f\"{col}_surface\"] * importances.get(f\"{col}_{row['surface']}\", 0) for col in colls_to_fill), 2), axis=1)\n",
        "\n",
        "    # Now we just have to rename this Stats depending on the player and concatenate with the original DataFrame\n",
        "    player1_stats = df_long[df_long['role'] == 'player1'][['match_id', 'return_stats_rating', 'return_stats_rating_surface']].copy()\n",
        "    player2_stats = df_long[df_long['role'] == 'player2'][['match_id', 'return_stats_rating', 'return_stats_rating_surface']].copy()\n",
        "\n",
        "    player1_stats = player1_stats.rename(columns={'return_stats_rating': 'player1_return_stats_rating', 'return_stats_rating_surface': 'player1_return_stats_rating_surface'})\n",
        "    player2_stats = player2_stats.rename(columns={'return_stats_rating': 'player2_return_stats_rating', 'return_stats_rating_surface': 'player2_return_stats_rating_surface'})\n",
        "\n",
        "    df = df.merge(player1_stats, on='match_id', how='left').merge(player2_stats, on='match_id', how='left')\n",
        "\n",
        "    print(\"Return stats rating calculation complete (Refactored).\")\n",
        "    return df"
      ],
      "metadata": {
        "id": "h6YyigN6oRRG"
      },
      "execution_count": 21,
      "outputs": []
    },
    {
      "cell_type": "code",
      "source": [
        "# OK\n",
        "def under_pressure_rating(df, date_window=365, default_fill=0.5, importances=None):\n",
        "    \"\"\"\n",
        "    Calculates rolling stats for pressure moments. (Leakage Removed)\n",
        "    \"\"\"\n",
        "    print(\"Calculating under pressure ratings (Refactored)...\")\n",
        "\n",
        "    X = df.copy()\n",
        "    stats_cols = ['player1_bpSaved', 'player1_bpFaced', 'player2_bpSaved', 'player2_bpFaced', 'score', 'best_of', 'winner']\n",
        "\n",
        "    # To compute Return stats we need for each player his opponents statistics (so we take player2_... stats)\n",
        "    df_long = pd.concat([\n",
        "              X[['match_id', 'match_date', 'player1_id', 'surface'] + stats_cols]\n",
        "              .rename(columns={'player1_id': 'player_id'})\n",
        "              .rename(columns=lambda x: x.replace('player2_', 'opp_') if 'player2_' in x else x)\n",
        "              .rename(columns=lambda x: x.replace('player1_', '') if 'player1_' in x else x)\n",
        "              .assign(role='player1'),\n",
        "              X[['match_id', 'match_date', 'player2_id', 'surface'] + stats_cols]\n",
        "              .rename(columns={'player2_id': 'player_id'})\n",
        "              .rename(columns=lambda x: x.replace('player1_', 'opp_') if 'player1_' in x else x)\n",
        "              .rename(columns=lambda x: x.replace('player2_', '') if 'player2_' in x else x)\n",
        "              .assign(role='player2')\n",
        "          ])\n",
        "\n",
        "    df_long = df_long.sort_values(['player_id', 'match_date', 'match_id']).reset_index(drop=True)\n",
        "\n",
        "    # We compute the win column to know if the players won the game\n",
        "    df_long['win'] = np.where(((df_long['role'] == 'player1') & (df_long['winner'] == 0)) | ((df_long['role'] == 'player2') & (df_long['winner'] == 1)), 1, 0)\n",
        "    df_long['clean_score'] = df_long['score'].str.replace(r'\\(\\d+-\\d+\\)|\\(\\d+\\)', '', regex=True).str.strip()\n",
        "\n",
        "    # Let's compute the ratio of Tie Breaks Won\n",
        "    # For that we need to know the number of Tie Break wons and the number of TB Played\n",
        "    # df_long[[\"TB_won\", \"TB_Played\"]] = df_long.apply(lambda row:  tb_match(row), axis=1, result_type=\"expand\")\n",
        "    sets_76 = df_long['clean_score'].str.count('7-6')\n",
        "    sets_67 = df_long['clean_score'].str.count('6-7')\n",
        "    df_long['TB_Played'] = sets_76 + sets_67\n",
        "    df_long['TB_won'] = np.where(df_long['win'] == 1, sets_76, 0) + \\\n",
        "                      np.where(df_long['win'] == 0, sets_67, 0)\n",
        "\n",
        "    # Now let's compute the % Deciding Sets won, for that we need :\n",
        "    # The number of deciding sets Won\n",
        "    # The number of deciding sets Played\n",
        "    df_long['num_sets'] = df_long['clean_score'].str.split().str.len()\n",
        "    is_deciding_set = (df_long[\"num_sets\"] == df_long['best_of'])\n",
        "    df_long['decisive_set_played'] = is_deciding_set.astype(int)\n",
        "    df_long['decisive_set_won'] = (is_deciding_set & (df_long['win'] == 1)).astype(int)\n",
        "\n",
        "    df_long = df_long.drop(columns=['num_sets', 'clean_score'])\n",
        "\n",
        "    # Now let's compute the cumulative sums\n",
        "    # We set the index to the match_date to be able to make rolling based on time\n",
        "    df_long = df_long.set_index('match_date')\n",
        "    window = f\"{date_window}D\"\n",
        "\n",
        "    tb_dec_cols = ['TB_won', 'TB_Played', 'decisive_set_won', 'decisive_set_played']\n",
        "    bp_cols = ['bpSaved', 'bpFaced', 'opp_bpSaved', 'opp_bpFaced']\n",
        "\n",
        "    group = df_long.groupby('player_id')\n",
        "    cum_stats_tb = group[tb_dec_cols].transform(lambda x: x.rolling(window, closed='left').sum()).add_prefix('cum_')\n",
        "    cum_stats_bp = group[bp_cols].transform(lambda x: x.rolling(window, closed='left').sum()).add_prefix('cum_')\n",
        "\n",
        "    groupSurface = df_long.groupby(['player_id', 'surface'])\n",
        "    cum_stats_surface_tb = groupSurface[tb_dec_cols].transform(lambda x: x.rolling(window, closed='left').sum()).add_prefix('cum_surface_')\n",
        "    cum_stats_surface_bp = groupSurface[bp_cols].transform(lambda x: x.rolling(window, closed='left').sum()).add_prefix('cum_surface_')\n",
        "\n",
        "    # We had the cumulative stats to the dataset\n",
        "    df_long = pd.concat([df_long, cum_stats_tb, cum_stats_bp, cum_stats_surface_tb, cum_stats_surface_bp], axis=1)\n",
        "\n",
        "    # Now we Create the % TieBreak Won feature and % Decisive Sets won\n",
        "    df_long[\"ratio_TB_won\"] = np.where(df_long['cum_TB_Played'] > 0, np.round(df_long['cum_TB_won'] / df_long['cum_TB_Played'], 3), np.nan)\n",
        "    df_long[\"ratio_decisive_set_won\"] = np.where(df_long['cum_decisive_set_played'] > 0, np.round(df_long['cum_decisive_set_won'] / df_long['cum_decisive_set_played'], 3), np.nan)\n",
        "\n",
        "    df_long[\"ratio_TB_won_surface\"] = np.where(df_long['cum_surface_TB_Played'] > 0, np.round(df_long['cum_surface_TB_won'] / df_long['cum_surface_TB_Played'], 3), np.nan)\n",
        "    df_long[\"ratio_decisive_set_won_surface\"] = np.where(df_long['cum_surface_decisive_set_played'] > 0, np.round(df_long['cum_surface_decisive_set_won'] / df_long['cum_surface_decisive_set_played'], 3), np.nan)\n",
        "\n",
        "    # Calculate the Serve Statistics generally and by Surface\n",
        "    df_long[\"ratio_bp_converted\"] = np.where(df_long['cum_opp_bpFaced'] > 0, np.round((df_long['cum_opp_bpFaced'] - df_long[\"cum_opp_bpSaved\"]) / df_long['cum_opp_bpFaced'], 3), np.nan)\n",
        "    df_long[\"ratio_bp_saved\"] = np.where(df_long['cum_bpFaced'] > 0, np.round(df_long['cum_bpSaved'] / df_long['cum_bpFaced'], 3), np.nan)\n",
        "\n",
        "    df_long[\"ratio_bp_converted_surface\"] = np.where(df_long['cum_surface_opp_bpFaced'] > 0, np.round((df_long['cum_surface_opp_bpFaced'] - df_long[\"cum_surface_opp_bpSaved\"]) / df_long['cum_surface_opp_bpFaced'], 3), np.nan)\n",
        "    df_long[\"ratio_bp_saved_surface\"] = np.where(df_long['cum_surface_bpFaced'] > 0, np.round(df_long['cum_surface_bpSaved'] / df_long['cum_surface_bpFaced'], 3), np.nan)\n",
        "\n",
        "    # Drop cumulative stats\n",
        "    df_long = df_long.drop(columns=cum_stats_tb.columns, errors='ignore')\n",
        "    df_long = df_long.drop(columns=cum_stats_bp.columns, errors='ignore')\n",
        "    df_long = df_long.drop(columns=cum_stats_surface_tb.columns, errors='ignore')\n",
        "    df_long = df_long.drop(columns=cum_stats_surface_bp.columns, errors='ignore')\n",
        "\n",
        "    colls_to_fill = [\"ratio_bp_converted\", \"ratio_bp_saved\", \"ratio_TB_won\", \"ratio_decisive_set_won\"]\n",
        "    colls_to_fill_surface = ['ratio_bp_converted_surface', 'ratio_bp_saved_surface', 'ratio_TB_won_surface', 'ratio_decisive_set_won_surface']\n",
        "\n",
        "    # Now we have to fill the missing values. We can distinguish 2 cases :\n",
        "    # 1. If the players hasn't played in the last window period\n",
        "    # => We take their last statistics\n",
        "    df_long[colls_to_fill] = df_long.groupby('player_id')[colls_to_fill].ffill()\n",
        "    df_long[colls_to_fill_surface] = df_long.groupby(['player_id', 'surface'])[colls_to_fill_surface].ffill()\n",
        "\n",
        "    df_long[colls_to_fill] = df_long[colls_to_fill].fillna(default_fill)\n",
        "    df_long[colls_to_fill_surface] = df_long[colls_to_fill_surface].fillna(default_fill)\n",
        "\n",
        "    df_long = df_long.reset_index()\n",
        "\n",
        "    # Now we determine the weights of each feature inside the Serve Stats Rating depending on the surface:\n",
        "    if importances is None: # Using provided weights\n",
        "        importances = {\n",
        "            'ratio_bp_converted': 0.35, 'ratio_bp_saved': 0.3, 'ratio_TB_won': 0.2, 'ratio_decisive_set_won': 0.15,\n",
        "            'ratio_bp_converted_Carpet': 0.3, 'ratio_bp_saved_Carpet': 0.3, 'ratio_TB_won_Carpet': 0.25, 'ratio_decisive_set_won_Carpet': 0.15,\n",
        "            'ratio_bp_converted_Grass': 0.2, 'ratio_bp_saved_Grass': 0.25, 'ratio_TB_won_Grass': 0.4, 'ratio_decisive_set_won_Grass': 0.15,\n",
        "            'ratio_bp_converted_Clay': 0.4, 'ratio_bp_saved_Clay': 0.4, 'ratio_TB_won_Clay': 0.1, 'ratio_decisive_set_won_Clay': 0.1,\n",
        "            'ratio_bp_converted_Hard': 0.3, 'ratio_bp_saved_Hard': 0.3, 'ratio_TB_won_Hard': 0.25, 'ratio_decisive_set_won_Hard': 0.15\n",
        "        }\n",
        "\n",
        "    # Now we can compute the Serve Stats Ratings global and per surface\n",
        "    df_long[\"under_pressure_rating\"] = df_long.apply(lambda row: np.round(sum(row[col] * importances.get(col, 0) for col in colls_to_fill), 2), axis=1)\n",
        "    df_long[\"under_pressure_rating_surface\"] = df_long.apply(lambda row: np.round(sum(row[f\"{col}_surface\"] * importances.get(f\"{col}_{row['surface']}\", 0) for col in colls_to_fill), 2), axis=1)\n",
        "\n",
        "    # Now we just have to rename this Stats depending on the player and concatenate with the original DataFrame\n",
        "    player1_stats = df_long[df_long['role'] == 'player1'][['match_id', 'under_pressure_rating', 'under_pressure_rating_surface']].copy()\n",
        "    player2_stats = df_long[df_long['role'] == 'player2'][['match_id', 'under_pressure_rating', 'under_pressure_rating_surface']].copy()\n",
        "\n",
        "    player1_stats = player1_stats.rename(columns={'under_pressure_rating': 'player1_under_pressure_rating', 'under_pressure_rating_surface': 'player1_under_pressure_rating_surface'})\n",
        "    player2_stats = player2_stats.rename(columns={'under_pressure_rating': 'player2_under_pressure_rating', 'under_pressure_rating_surface': 'player2_under_pressure_rating_surface'})\n",
        "\n",
        "    df = df.merge(player1_stats, on='match_id', how='left').merge(player2_stats, on='match_id', how='left')\n",
        "\n",
        "    print(\"Under pressure rating calculation complete (Refactored).\")\n",
        "    return df"
      ],
      "metadata": {
        "id": "03CMvT4DoTzk"
      },
      "execution_count": 22,
      "outputs": []
    },
    {
      "cell_type": "code",
      "source": [
        "# OK\n",
        "def get_recent_form(df, window_matches=10):\n",
        "    \"\"\"\n",
        "    Calculate the number of wins in the last 10 matches for each player.\n",
        "    \"\"\"\n",
        "    df = df.sort_values(['match_date', 'match_id']).reset_index(drop=True)\n",
        "\n",
        "    df_long = pd.concat([\n",
        "        df[['match_id', 'match_date', 'player1_id', 'winner']]\n",
        "        .rename(columns={'player1_id': 'player_id'})\n",
        "        .assign(role='player1'),\n",
        "        df[['match_id', 'match_date', 'player2_id', 'winner']]\n",
        "        .rename(columns={'player2_id': 'player_id'})\n",
        "        .assign(role='player2')\n",
        "    ], ignore_index=True)\n",
        "\n",
        "    df_long = df_long.sort_values(['player_id', 'match_date']).reset_index(drop=True)\n",
        "\n",
        "    # Calculate win indicator (1 if the player won, 0 otherwise)\n",
        "    df_long['win'] = np.where(\n",
        "      ((df_long['role'] == 'player1') & (df_long['winner'] == 0)) |\n",
        "      ((df_long['role'] == 'player2') & (df_long['winner'] == 1)),\n",
        "      1, 0)\n",
        "\n",
        "    # Calculate rolling sum of wins\n",
        "    df_long['recent_wins'] = df_long.groupby('player_id')['win'].shift(1).rolling(window=window_matches, min_periods=1).sum().fillna(0)\n",
        "\n",
        "    player1_stats = df_long[df_long['role'] == 'player1'][['match_id', 'recent_wins']]\n",
        "    player2_stats = df_long[df_long['role'] == 'player2'][['match_id', 'recent_wins']]\n",
        "\n",
        "    player1_stats = player1_stats.rename(columns={'recent_wins': 'player1_recent_wins'})\n",
        "    player2_stats = player2_stats.rename(columns={'recent_wins': 'player2_recent_wins'})\n",
        "\n",
        "    df = df.merge(player1_stats, on='match_id', how='left').merge(player2_stats, on='match_id', how='left')\n",
        "    return df"
      ],
      "metadata": {
        "id": "gswidYLUoV6k"
      },
      "execution_count": 23,
      "outputs": []
    },
    {
      "cell_type": "code",
      "source": [
        "# ok\n",
        "def get_match_importance(df):\n",
        "    \"\"\"\n",
        "    Calculate a match importance score based on tournament level and round.\n",
        "    \"\"\"\n",
        "    # Define weights for tournament levels\n",
        "    tourney_level_weights = {\n",
        "        'G': 1.0,  # Grand Slam\n",
        "        'M': 0.8,  # Masters 1000\n",
        "        'A': 0.5,  # ATP 500\n",
        "        'D': 0.3,  # Davis Cup\n",
        "        'F': 0.9,  # Tour Finals\n",
        "        'O': 0.7   # Olympics\n",
        "    }\n",
        "\n",
        "    # Define weights for rounds (higher weight for later rounds)\n",
        "    round_weights = {\n",
        "        'F': 1.0,   # Final\n",
        "        'SF': 0.9,  # Semifinal\n",
        "        'QF': 0.7,  # Quarterfinal\n",
        "        'R16': 0.5, # Round of 16\n",
        "        'R32': 0.3, # Round of 32\n",
        "        'R64': 0.2, # Round of 64\n",
        "        'R128': 0.1, # Round of 128\n",
        "        'RR': 0.6   # Round Robin\n",
        "    }\n",
        "\n",
        "    # Calculate match importance\n",
        "    df['match_importance'] = df.apply(\n",
        "        lambda row: tourney_level_weights.get(row['tourney_level'], 0.5) * round_weights.get(row['round'], 0.5),\n",
        "        axis=1\n",
        "    )\n",
        "\n",
        "    return df"
      ],
      "metadata": {
        "id": "0vu-Msw4oYRw"
      },
      "execution_count": 24,
      "outputs": []
    },
    {
      "cell_type": "code",
      "source": [
        "# OK\n",
        "def delete_Features_v2(df):\n",
        "    \"\"\"\n",
        "    Delete specific columns from the DataFrame, keeping new features.\n",
        "    \"\"\"\n",
        "    columns_to_drop = [\n",
        "       'tourney_id', 'tourney_name', 'surface', 'draw_size', 'tourney_level',\n",
        "       'tourney_date', 'match_num', 'player1_id', 'player1_seed',\n",
        "       'player1_entry', 'player1_name', 'player1_hand', 'player1_ht',\n",
        "       'player1_ioc', 'player1_age', 'player2_id', 'player2_seed',\n",
        "       'player2_entry', 'player2_name', 'player2_hand', 'player2_ht',\n",
        "       'player2_ioc', 'player2_age', 'score', 'best_of', 'round', 'minutes',\n",
        "       'player1_rank', 'player1_rank_points', 'player2_rank',\n",
        "       'player2_rank_points', 'round_day', # 'match_date', 'match_id',\n",
        "       'player1_ace', 'player1_df', 'player1_svpt', 'player1_1stIn',\n",
        "       'player1_1stWon', 'player1_2ndWon', 'player1_SvGms', 'player1_bpSaved',\n",
        "       'player1_bpFaced', 'player2_ace', 'player2_df', 'player2_svpt',\n",
        "       'player2_1stIn', 'player2_1stWon', 'player2_2ndWon', 'player2_SvGms',\n",
        "       'player2_bpSaved', 'player2_bpFaced', 'numberofGames', 'numberofSets'\n",
        "    ]\n",
        "    df = df.drop(columns=[col for col in columns_to_drop if col in df.columns], axis=1)\n",
        "    return df"
      ],
      "metadata": {
        "id": "wxgQWSt0oaLC"
      },
      "execution_count": 25,
      "outputs": []
    },
    {
      "cell_type": "markdown",
      "source": [
        "# Modeling"
      ],
      "metadata": {
        "id": "VfrILJhNRVi4"
      }
    },
    {
      "cell_type": "code",
      "source": [
        "# We create our Pipeline\n",
        "\n",
        "pipeline_v2 = Pipeline([\n",
        "    ('flip_dataset', FunctionTransformer(flip_dataset, validate=False)),\n",
        "    ('process', FunctionTransformer(process_dataset, validate=False)),\n",
        "    ('impute_serve_stats', ServeStatsImputerV2()),\n",
        "    ('impute_surface', FunctionTransformer(impute_surface, validate=False)),\n",
        "    ('impute_minutes', FunctionTransformer(minutes_Imputer, validate=False)),  # Nouvelle étape\n",
        "    ('player_form', FunctionTransformer(get_minutes_played_recent, validate=False)),\n",
        "    ('elo_features', FunctionTransformer(elo_feature, validate=False)),  # Remplace win rates\n",
        "    ('h2h', FunctionTransformer(get_h2h_v2, validate=False)),\n",
        "    ('serve_stats', FunctionTransformer(serve_stats_rating, validate=False)),\n",
        "    ('return_stats', FunctionTransformer(return_stats_rating, validate=False)),\n",
        "    ('under_pressure', FunctionTransformer(under_pressure_rating, validate=False)),  # Nouvelle étape\n",
        "    ('recent_form', FunctionTransformer(get_recent_form, validate=False)),  # Nouvelle étape\n",
        "    ('match_importance', FunctionTransformer(get_match_importance, validate=False)),\n",
        "    ('delete_features', FunctionTransformer(delete_Features_v2, validate=False))\n",
        "])"
      ],
      "metadata": {
        "id": "Tzp_T8bYrEzu"
      },
      "execution_count": 26,
      "outputs": []
    },
    {
      "cell_type": "code",
      "source": [
        "# We load the datasets\n",
        "full_dataset = []\n",
        "\n",
        "full_dataset = load_match(2010,2024)\n",
        "full_dataset.shape"
      ],
      "metadata": {
        "colab": {
          "base_uri": "https://localhost:8080/"
        },
        "id": "ePO009p8oo0W",
        "outputId": "faa43d84-bc18-4406-d387-476de090bea8"
      },
      "execution_count": 27,
      "outputs": [
        {
          "output_type": "execute_result",
          "data": {
            "text/plain": [
              "(42571, 49)"
            ]
          },
          "metadata": {},
          "execution_count": 27
        }
      ]
    },
    {
      "cell_type": "code",
      "source": [
        "# We perform the transformation of our dataset\n",
        "dataset = pipeline_v2.fit_transform(full_dataset)"
      ],
      "metadata": {
        "colab": {
          "base_uri": "https://localhost:8080/"
        },
        "id": "9TuheVtwNe_i",
        "outputId": "f2db6e40-3059-4f29-de12-aac9a2c69ac5"
      },
      "execution_count": 28,
      "outputs": [
        {
          "output_type": "stream",
          "name": "stdout",
          "text": [
            "Flip dataset starting ...\n",
            "Flip dataset ended.\n",
            "Imputing missing surface values...\n",
            "Missing values surfaces imputed.\n",
            "Imputing missing minutes with median...\n",
            "Calculating helper features for minutes imputation...\n",
            "Compute number of games and sets...\n",
            "number of games/sets ok.\n",
            "Minutes Imputed OK\n",
            "Start get_minutes_played_recent...\n"
          ]
        },
        {
          "output_type": "stream",
          "name": "stderr",
          "text": [
            "<ipython-input-17-99d49135dc07>:18: DeprecationWarning: DataFrameGroupBy.apply operated on the grouping columns. This behavior is deprecated, and in a future version of pandas the grouping columns will be excluded from the operation. Either pass `include_groups=False` to exclude the groupings or explicitly select the grouping columns after groupby to silence this warning.\n",
            "  .apply(lambda x: x.set_index('match_date')['minutes'].rolling(window).sum().values)\n"
          ]
        },
        {
          "output_type": "stream",
          "name": "stdout",
          "text": [
            "End get_minutes_played_recent...\n",
            "Calculating Elo features...\n",
            "Elo features calculated\n",
            "Calculating serve stats ratings (Refactored)...\n",
            "Serve stats rating calculation complete (Refactored).\n",
            "Calculating return stats ratings (Refactored)...\n",
            "Return stats rating calculation complete (Refactored).\n",
            "Calculating under pressure ratings (Refactored)...\n",
            "Under pressure rating calculation complete (Refactored).\n"
          ]
        }
      ]
    },
    {
      "cell_type": "code",
      "source": [
        "dataset = dataset.sort_values(['match_date', 'match_id'])"
      ],
      "metadata": {
        "id": "eUNT0wCRQSgB"
      },
      "execution_count": 29,
      "outputs": []
    },
    {
      "cell_type": "code",
      "source": [
        "dataset = dataset.drop(['match_date', 'match_id'], axis=1)"
      ],
      "metadata": {
        "id": "3bYntGm5QUJD"
      },
      "execution_count": 30,
      "outputs": []
    },
    {
      "cell_type": "code",
      "source": [
        "train_length = int(len(dataset) * 0.8)\n",
        "train_data = dataset[:train_length]\n",
        "test_data = dataset[train_length:]"
      ],
      "metadata": {
        "id": "ueshN0LXQXEu"
      },
      "execution_count": 44,
      "outputs": []
    },
    {
      "cell_type": "code",
      "source": [
        "X_train = train_data.drop('winner', axis=1)\n",
        "y_train = train_data['winner']\n",
        "X_test = test_data.drop('winner', axis=1)\n",
        "y_test = test_data['winner']"
      ],
      "metadata": {
        "id": "Zzl0whd6siVv"
      },
      "execution_count": 45,
      "outputs": []
    },
    {
      "cell_type": "code",
      "source": [
        "def evaluate_timeseries_model(model, X, y, n_splits=5):\n",
        "    \"\"\"\n",
        "    This function evaluate a model using cross validation with TimeSerieSplit folds\n",
        "    \"\"\"\n",
        "\n",
        "    tscv = TimeSeriesSplit(n_splits=n_splits)\n",
        "    scores = cross_val_score(model, X, y, cv=tscv, scoring='accuracy')\n",
        "    print(f\"Model : {model.__class__.__name__}\")\n",
        "    print(f\"Cross Validation Scores: {scores}\")\n",
        "    print(f\"Mean Score: {np.mean(scores)}\")\n",
        "    return scores"
      ],
      "metadata": {
        "id": "Vb0ZM0Jn5zGH"
      },
      "execution_count": 46,
      "outputs": []
    },
    {
      "cell_type": "code",
      "source": [
        "# We are going to test 3 Classifier Models\n",
        "rnd_clf = RandomForestClassifier(random_state=42)\n",
        "ada_clf = AdaBoostClassifier(random_state=42)\n",
        "gboost_clf = GradientBoostingClassifier(random_state=42)\n",
        "models = [rnd_clf, ada_clf, gboost_clf]\n",
        "\n",
        "for model in models:\n",
        "    evaluate_timeseries_model(model, X_train, y_train)"
      ],
      "metadata": {
        "colab": {
          "base_uri": "https://localhost:8080/"
        },
        "id": "E2Q64DWK51bM",
        "outputId": "59c46871-21d8-4a2f-c5b4-e107376fa9b9"
      },
      "execution_count": 47,
      "outputs": [
        {
          "output_type": "stream",
          "name": "stdout",
          "text": [
            "Model : RandomForestClassifier\n",
            "Cross Validation Scores: [0.67565187 0.67142354 0.68393235 0.64182523 0.63706836]\n",
            "Mean Score: 0.6619802677942213\n",
            "Model : AdaBoostClassifier\n",
            "Cross Validation Scores: [0.67424242 0.67283298 0.68675123 0.64323467 0.6483439 ]\n",
            "Mean Score: 0.6650810429880197\n",
            "Model : GradientBoostingClassifier\n",
            "Cross Validation Scores: [0.67741367 0.68023256 0.68498943 0.64728682 0.64940099]\n",
            "Mean Score: 0.6678646934460889\n"
          ]
        }
      ]
    },
    {
      "cell_type": "markdown",
      "source": [
        "Let's see the Feature Importances of our different features."
      ],
      "metadata": {
        "id": "-LLapI9kmtQT"
      }
    },
    {
      "cell_type": "code",
      "source": [
        "rnd_clf = RandomForestClassifier(random_state=42)\n",
        "\n",
        "rnd_clf.fit(X_train, y_train)\n",
        "\n",
        "df_importances = pd.DataFrame({'feature': X_train.columns, 'importance': rnd_clf.feature_importances_})\n",
        "df_importances = df_importances.sort_values(by='importance', ascending=False)\n",
        "\n",
        "print(df_importances)"
      ],
      "metadata": {
        "colab": {
          "base_uri": "https://localhost:8080/"
        },
        "id": "1a3CJG-N3_BV",
        "outputId": "3edc8f60-024e-4d81-f1c5-b7dbdd0320ae"
      },
      "execution_count": 48,
      "outputs": [
        {
          "output_type": "stream",
          "name": "stdout",
          "text": [
            "                                  feature  importance\n",
            "6                                elo_diff    0.104741\n",
            "7                        elo_surface_diff    0.085966\n",
            "3                             player2_elo    0.064875\n",
            "2                             player1_elo    0.064232\n",
            "5                     player2_elo_surface    0.056155\n",
            "4                     player1_elo_surface    0.055317\n",
            "1         player2_minutes_played_recently    0.039346\n",
            "0         player1_minutes_played_recently    0.039093\n",
            "21  player2_under_pressure_rating_surface    0.035679\n",
            "19  player1_under_pressure_rating_surface    0.034841\n",
            "20          player2_under_pressure_rating    0.034277\n",
            "18          player1_under_pressure_rating    0.033951\n",
            "17    player2_return_stats_rating_surface    0.033030\n",
            "11     player1_serve_stats_rating_surface    0.032997\n",
            "13     player2_serve_stats_rating_surface    0.032197\n",
            "15    player1_return_stats_rating_surface    0.032186\n",
            "16            player2_return_stats_rating    0.031927\n",
            "14            player1_return_stats_rating    0.031403\n",
            "12             player2_serve_stats_rating    0.029939\n",
            "10             player1_serve_stats_rating    0.029202\n",
            "23                    player2_recent_wins    0.024763\n",
            "22                    player1_recent_wins    0.024327\n",
            "24                       match_importance    0.024209\n",
            "8                          historical_h2h    0.012775\n",
            "9                              recent_h2h    0.012573\n"
          ]
        }
      ]
    },
    {
      "cell_type": "markdown",
      "source": [
        "As we can see our model relies a lot on the Elo features.\n",
        "The 6 more important features are all elo-related."
      ],
      "metadata": {
        "id": "ASvTCFLTmyjE"
      }
    },
    {
      "cell_type": "markdown",
      "source": [
        "Let's try to remove them or just some of them :"
      ],
      "metadata": {
        "id": "57ZT_4dWnATs"
      }
    },
    {
      "cell_type": "code",
      "source": [
        "# Let's try to remove the Elo statistics :\n",
        "\n",
        "X_tr = X_train.drop(['elo_diff', 'elo_surface_diff', 'player1_elo', 'player2_elo', 'player1_elo_surface', 'player2_elo_surface'], axis=1)\n",
        "X_te = X_test.drop(['elo_diff', 'elo_surface_diff', 'player1_elo', 'player2_elo', 'player1_elo_surface', 'player2_elo_surface'], axis=1)\n",
        "\n",
        "for model in models:\n",
        "    evaluate_timeseries_model(model, X_tr, y_train)"
      ],
      "metadata": {
        "colab": {
          "base_uri": "https://localhost:8080/"
        },
        "id": "-JnqOq6ARkAY",
        "outputId": "d2513e39-a6b5-4a84-80a8-834036eb095d"
      },
      "execution_count": 49,
      "outputs": [
        {
          "output_type": "stream",
          "name": "stdout",
          "text": [
            "Model : RandomForestClassifier\n",
            "Cross Validation Scores: [0.63653982 0.63794926 0.63301621 0.59760395 0.60870331]\n",
            "Mean Score: 0.6227625088090205\n",
            "Model : AdaBoostClassifier\n",
            "Cross Validation Scores: [0.636716   0.63601128 0.62914024 0.6042988  0.60570825]\n",
            "Mean Score: 0.6223749119097957\n",
            "Model : GradientBoostingClassifier\n",
            "Cross Validation Scores: [0.65274841 0.64217759 0.63812544 0.60958421 0.61116984]\n",
            "Mean Score: 0.6307610993657505\n"
          ]
        }
      ]
    },
    {
      "cell_type": "markdown",
      "source": [
        "Well without the Elo features our model struggles more.\n",
        "\n",
        "We can clearly see that the accuracy drop down.\n",
        "Let's now try ro keep only the Elo difference and Elo surface Difference"
      ],
      "metadata": {
        "id": "1dySssXynFjg"
      }
    },
    {
      "cell_type": "code",
      "source": [
        "# If we only keep some elo statistics :\n",
        "X_tr = X_train.drop(['player1_elo', 'player2_elo', 'player1_elo_surface', 'player2_elo_surface'], axis=1)\n",
        "X_te = X_test.drop([ 'player1_elo', 'player2_elo', 'player1_elo_surface', 'player2_elo_surface'], axis=1)\n",
        "\n",
        "for model in models:\n",
        "    evaluate_timeseries_model(model, X_tr, y_train)"
      ],
      "metadata": {
        "colab": {
          "base_uri": "https://localhost:8080/"
        },
        "id": "lpFvCtijSdVt",
        "outputId": "f2f0c2ac-4546-41be-817a-1b9e8c501020"
      },
      "execution_count": 52,
      "outputs": [
        {
          "output_type": "stream",
          "name": "stdout",
          "text": [
            "Model : RandomForestClassifier\n",
            "Cross Validation Scores: [0.67706131 0.67864693 0.68604651 0.64288231 0.64041579]\n",
            "Mean Score: 0.6650105708245243\n",
            "Model : AdaBoostClassifier\n",
            "Cross Validation Scores: [0.67424242 0.67318534 0.68639887 0.64323467 0.6483439 ]\n",
            "Mean Score: 0.6650810429880197\n",
            "Model : GradientBoostingClassifier\n",
            "Cross Validation Scores: [0.681642   0.67970402 0.6897463  0.64904863 0.65045807]\n",
            "Mean Score: 0.6701198026779422\n"
          ]
        }
      ]
    },
    {
      "cell_type": "markdown",
      "source": [
        "The accuracy remains the same as with all the Elo features."
      ],
      "metadata": {
        "id": "SDr4zTGNnx3H"
      }
    },
    {
      "cell_type": "markdown",
      "source": [
        "Now let's plot the Confusion Matrix."
      ],
      "metadata": {
        "id": "_Ip_h6G7n5EG"
      }
    },
    {
      "cell_type": "code",
      "source": [
        "model = RandomForestClassifier(random_state=42)  # Ou un modèle optimisé\n",
        "n_splits = 5\n",
        "tscv = TimeSeriesSplit(n_splits=n_splits)\n",
        "\n",
        "y_train_pred = np.zeros(len(y_train))  # Initialiser un tableau vide pour stocker les prédictions\n",
        "\n",
        "for fold, (train_index, test_index) in enumerate(tscv.split(X_train)):\n",
        "    print(f\"Fold {fold + 1}/{n_splits}\")\n",
        "\n",
        "    X_tr, X_val = X_train.iloc[train_index], X_train.iloc[test_index]\n",
        "    y_tr, y_val = y_train.iloc[train_index], y_train.iloc[test_index]\n",
        "\n",
        "    model.fit(X_tr, y_tr)\n",
        "\n",
        "    y_train_pred[test_index] = model.predict(X_val)\n",
        "\n",
        "cm = confusion_matrix(y_train, y_train_pred)\n",
        "\n",
        "disp = ConfusionMatrixDisplay(confusion_matrix=cm, display_labels=['P1 Gagne', 'P2 Gagne'])\n",
        "disp.plot(cmap='Blues', values_format='d')\n",
        "plt.title('Matrice de Confusion (CV sur Train Set)')\n",
        "plt.show()\n",
        "\n"
      ],
      "metadata": {
        "colab": {
          "base_uri": "https://localhost:8080/",
          "height": 559
        },
        "id": "a9mI5w9rT_3J",
        "outputId": "30488b09-9cee-4964-da9e-4c23210e78c1"
      },
      "execution_count": 58,
      "outputs": [
        {
          "output_type": "stream",
          "name": "stdout",
          "text": [
            "Fold 1/5\n",
            "Fold 2/5\n",
            "Fold 3/5\n",
            "Fold 4/5\n",
            "Fold 5/5\n"
          ]
        },
        {
          "output_type": "display_data",
          "data": {
            "text/plain": [
              "<Figure size 640x480 with 2 Axes>"
            ],
            "image/png": "[encoded data removed]"
          },
          "metadata": {}
        }
      ]
    },
    {
      "cell_type": "code",
      "source": [
        "labels = np.array([[\"TN\", \"FP\"],\n",
        "                   [\"FN\", \"TP\"]])\n",
        "\n",
        "cm_percentage = cm.astype('float') / cm.sum(axis=1)[:, np.newaxis] * 100\n",
        "\n",
        "cm_labels = np.array([[f\"{labels[i, j]}\\n{cm[i, j]}\\n({cm_percentage[i, j]:.1f}%)\"\n",
        "                       for j in range(cm.shape[1])] for i in range(cm.shape[0])])\n",
        "\n",
        "plt.figure(figsize=(8, 6))\n",
        "sns.heatmap(cm, annot=cm_labels, fmt=\"\", cmap=\"Blues\", cbar=True,\n",
        "            xticklabels=['P1 Gagne', 'P2 Gagne'],\n",
        "            yticklabels=['P1 Gagne', 'P2 Gagne'])\n",
        "\n",
        "plt.title('Matrice de Confusion (CV sur Train Set)', fontsize=14)\n",
        "plt.xlabel('Classe Prédite', fontsize=12)\n",
        "plt.ylabel('Vraie Classe', fontsize=12)\n"
      ],
      "metadata": {
        "colab": {
          "base_uri": "https://localhost:8080/",
          "height": 586
        },
        "id": "M9cR2F9yW50E",
        "outputId": "c3941cf9-58ee-499e-f977-549ae8e648e1"
      },
      "execution_count": 59,
      "outputs": [
        {
          "output_type": "execute_result",
          "data": {
            "text/plain": [
              "Text(70.72222222222221, 0.5, 'Vraie Classe')"
            ]
          },
          "metadata": {},
          "execution_count": 59
        },
        {
          "output_type": "display_data",
          "data": {
            "text/plain": [
              "<Figure size 800x600 with 2 Axes>"
            ],
            "image/png": "[encoded data removed]"
          },
          "metadata": {}
        }
      ]
    },
    {
      "cell_type": "code",
      "source": [
        "# Identify errors\n",
        "errors_mask = (y_train_pred != y_train)\n",
        "correct_mask = ~errors_mask\n",
        "\n",
        "# Get indices where errors occurred\n",
        "error_indices = y_train[errors_mask].index\n",
        "correct_indices = y_train[correct_mask].index\n",
        "\n",
        "# Select corresponding rows directly from X_train\n",
        "# Ensure X_train has an index corresponding to y_train\n",
        "error_matches = X_train.loc[error_indices].copy()\n",
        "correct_matches = X_train.loc[correct_indices].copy()\n",
        "\n",
        "print(f\"Number of prediction errors: {len(error_matches)}\")\n",
        "print(f\"Number of correct predictions: {len(correct_matches)}\")\n",
        "\n",
        "# Create a column indicating if the prediction was correct for plotting\n",
        "X_train_analysis = X_train.copy() # Copy to avoid modifying the original\n",
        "X_train_analysis['Prediction Correct'] = True # Use English name\n",
        "X_train_analysis.loc[error_indices, 'Prediction Correct'] = False\n",
        "\n",
        "\n",
        "# --- Analysis of Error Characteristics (Based on X_train) ---\n",
        "\n",
        "# 1. Analyze by Match Importance\n",
        "#    (Assuming 'match_importance' is a column in X_train)\n",
        "if 'match_importance' in X_train_analysis.columns:\n",
        "     plt.figure(figsize=(10, 6))\n",
        "     # Use histplot with hue and multiple='dodge'\n",
        "     sns.histplot(data=X_train_analysis, x='match_importance', hue='Prediction Correct',\n",
        "                  multiple=\"dodge\", shrink=0.8, palette='viridis', bins=20) # Use grouped bars\n",
        "     plt.title('Distribution of match_importance') # Kept user's title\n",
        "     plt.xlabel('match_importance')\n",
        "     plt.ylabel('Count') # Display Count\n",
        "\n",
        "# Analyze by elo difference\n",
        "if 'elo_diff' in X_train_analysis.columns:\n",
        "    plt.figure(figsize=(10, 6))\n",
        "    sns.histplot(data=X_train_analysis, x='elo_diff', hue='Prediction Correct',\n",
        "                 multiple=\"dodge\", shrink=0.8, palette='viridis', bins=20) # Use grouped bars\n",
        "    plt.title('Distribution of Elo Difference (Errors vs. Successes) - Based on X_train') # Translated title\n",
        "    plt.xlabel('Elo Difference ') # Translated label\n",
        "    plt.ylabel('Count') # Display Count\n",
        "\n",
        "# Analyze by elo difference by surface\n",
        "if 'elo_surface_diff' in X_train_analysis.columns:\n",
        "    plt.figure(figsize=(10, 6))\n",
        "    sns.histplot(data=X_train_analysis, x='elo_surface_diff', hue='Prediction Correct',\n",
        "                 multiple=\"dodge\", shrink=0.8, palette='viridis', bins=20) # Use grouped bars\n",
        "    plt.title('Distribution of Elo Surface Difference (Errors vs Successes)') # Corrected user's title\n",
        "    plt.xlabel('Elo Surface Difference') # Translated label\n",
        "    plt.ylabel('Count') # Display Count\n",
        "\n",
        "\n",
        "# 3. Analyze by H2H\n",
        "#    (Assuming 'historical_h2h' is a column in X_train)\n",
        "if 'historical_h2h' in X_train_analysis.columns:\n",
        "    plt.figure(figsize=(10, 6)) # Slightly wider for H2H\n",
        "    sns.histplot(data=X_train_analysis, x='historical_h2h', hue='Prediction Correct',\n",
        "                 multiple='dodge', shrink=0.8, palette='viridis', discrete=True) # discrete=True to treat as categories\n",
        "    plt.title('Distribution of Historical H2H (Errors vs. Successes) - Based on X_train') # Translated title\n",
        "    plt.xlabel('Historical H2H ') # Translated label\n",
        "    plt.ylabel('Count') # Display Count\n",
        "    plt.xlim(-10.5, 10.5) # Kept user's xlim\n",
        "    plt.grid(axis='x', linestyle='--', alpha=0.6) # Add vertical grid for readability\n",
        "\n",
        "plt.show() # Single show command at the end, as in user's code"
      ],
      "metadata": {
        "colab": {
          "base_uri": "https://localhost:8080/",
          "height": 1000
        },
        "id": "dkf9GtsuX5-R",
        "outputId": "22119748-419d-4e0a-dbf7-75e6df6222a1"
      },
      "execution_count": 60,
      "outputs": [
        {
          "output_type": "stream",
          "name": "stdout",
          "text": [
            "Number of prediction errors: 12393\n",
            "Number of correct predictions: 21663\n"
          ]
        },
        {
          "output_type": "display_data",
          "data": {
            "text/plain": [
              "<Figure size 1000x600 with 1 Axes>"
            ],
            "image/png": "[encoded data removed]"
          },
          "metadata": {}
        },
        {
          "output_type": "display_data",
          "data": {
            "text/plain": [
              "<Figure size 1000x600 with 1 Axes>"
            ],
            "image/png": "[encoded data removed]"
          },
          "metadata": {}
        },
        {
          "output_type": "display_data",
          "data": {
            "text/plain": [
              "<Figure size 1000x600 with 1 Axes>"
            ],
            "image/png": "[encoded data removed]"
          },
          "metadata": {}
        },
        {
          "output_type": "display_data",
          "data": {
            "text/plain": [
              "<Figure size 1000x600 with 1 Axes>"
            ],
            "image/png": "[encoded data removed]"
          },
          "metadata": {}
        }
      ]
    },
    {
      "cell_type": "markdown",
      "source": [
        "### Key Findings:\n",
        "\n",
        "**Concentration of Errors:** The plots clearly indicates that incorrect predictions (represented by the blue bars) are significantly more concentrated around an Elo difference and a Head to Head close to zero. The highest frequency of errors occurs when the two players have very similar Elo ratings and a H2H really balanced.\n",
        "\n",
        "**Model Strength:** Conversely, correct predictions (green bars) are more spread out across the range of Elo differences. While the model is also often correct when Elo ratings are similar, it demonstrates substantially better performance when there is a larger Elo difference, indicating a clearer skill gap between the opponents.\n",
        "\n",
        "**Interpretation:** This finding highlights a common challenge in sports prediction: matches perceived as being closely contested (based on Elo ratings) are inherently harder to predict accurately. The model relies heavily on the Elo difference, and when this difference is minimal, its predictive power diminishes, leading to a higher error rate."
      ],
      "metadata": {
        "id": "m-OD_ALUo0F3"
      }
    },
    {
      "cell_type": "markdown",
      "source": [
        "### Neural Network\n",
        "\n",
        "Now let's see if a Dense neural network will have better performance that our Tree-based models.\n",
        "\n",
        "For that let's create a Sequential Neural Network with 3 Dense Layers of 128, 64 and 32 neurones with a relu activation function.\n",
        "Let's also add some Dropout to reduce overfitting."
      ],
      "metadata": {
        "id": "DCpUgVSepNWW"
      }
    },
    {
      "cell_type": "code",
      "source": [
        "train_length = int(len(dataset) * 0.8)\n",
        "valid_length = int(len(dataset) * 0.1)\n",
        "train_data = dataset[:train_length]\n",
        "valid_data = dataset[train_length:train_length+valid_length]\n",
        "test_data = dataset[train_length+valid_length:]\n",
        "\n",
        "\n",
        "X_train = train_data.drop('winner', axis=1)\n",
        "y_train = train_data['winner']\n",
        "X_test = test_data.drop('winner', axis=1)\n",
        "y_test = test_data['winner']\n",
        "X_valid = valid_data.drop('winner', axis=1)\n",
        "y_valid = valid_data['winner']\n",
        "\n",
        "# Normalize the features\n",
        "std_scaler = MinMaxScaler()\n",
        "X_train_std = std_scaler.fit_transform(X_train)\n",
        "X_valid_std = std_scaler.transform(X_valid)\n",
        "X_test_std = std_scaler.transform(X_test)\n",
        "\n",
        "# Define a neural network with dropout to reduce overfitting\n",
        "model = tf.keras.models.Sequential([\n",
        "    tf.keras.layers.Dense(128, activation='relu', input_shape=(X_train.shape[1],)),\n",
        "    tf.keras.layers.Dropout(0.3),\n",
        "    tf.keras.layers.Dense(64, activation='relu'),\n",
        "    tf.keras.layers.Dropout(0.3),\n",
        "    tf.keras.layers.Dense(32, activation='relu'),\n",
        "    tf.keras.layers.Dropout(0.3),\n",
        "    tf.keras.layers.Dense(1, activation='sigmoid')])\n",
        "\n",
        "# Create an optimizer and a early_stopping callback\n",
        "optimizer = tf.keras.optimizers.Adam(learning_rate=0.0001)\n",
        "early_stopping = tf.keras.callbacks.EarlyStopping(patience=10, restore_best_weights=True)\n",
        "\n",
        "model.compile(optimizer=optimizer, loss='binary_crossentropy', metrics=['accuracy'])\n",
        "\n",
        "history = model.fit(X_train_std, y_train, epochs=50, batch_size=128,\n",
        "                    validation_data=(X_valid_std, y_valid), callbacks=[early_stopping])\n",
        "\n",
        "model.evaluate(X_test_std, y_test)"
      ],
      "metadata": {
        "colab": {
          "base_uri": "https://localhost:8080/"
        },
        "id": "elDmhgtYe6sA",
        "outputId": "de5bea81-ee0d-4f0d-c746-aae056a1303a"
      },
      "execution_count": 42,
      "outputs": [
        {
          "output_type": "stream",
          "name": "stdout",
          "text": [
            "Epoch 1/50\n"
          ]
        },
        {
          "output_type": "stream",
          "name": "stderr",
          "text": [
            "/usr/local/lib/python3.11/dist-packages/keras/src/layers/core/dense.py:87: UserWarning: Do not pass an `input_shape`/`input_dim` argument to a layer. When using Sequential models, prefer using an `Input(shape)` object as the first layer in the model instead.\n",
            "  super().__init__(activity_regularizer=activity_regularizer, **kwargs)\n"
          ]
        },
        {
          "output_type": "stream",
          "name": "stdout",
          "text": [
            "\u001b[1m267/267\u001b[0m \u001b[32m━━━━━━━━━━━━━━━━━━━━\u001b[0m\u001b[37m\u001b[0m \u001b[1m7s\u001b[0m 10ms/step - accuracy: 0.5119 - loss: 0.6955 - val_accuracy: 0.6342 - val_loss: 0.6736\n",
            "Epoch 2/50\n",
            "\u001b[1m267/267\u001b[0m \u001b[32m━━━━━━━━━━━━━━━━━━━━\u001b[0m\u001b[37m\u001b[0m \u001b[1m1s\u001b[0m 3ms/step - accuracy: 0.5858 - loss: 0.6754 - val_accuracy: 0.6500 - val_loss: 0.6412\n",
            "Epoch 3/50\n",
            "\u001b[1m267/267\u001b[0m \u001b[32m━━━━━━━━━━━━━━━━━━━━\u001b[0m\u001b[37m\u001b[0m \u001b[1m1s\u001b[0m 4ms/step - accuracy: 0.6192 - loss: 0.6521 - val_accuracy: 0.6509 - val_loss: 0.6232\n",
            "Epoch 4/50\n",
            "\u001b[1m267/267\u001b[0m \u001b[32m━━━━━━━━━━━━━━━━━━━━\u001b[0m\u001b[37m\u001b[0m \u001b[1m1s\u001b[0m 4ms/step - accuracy: 0.6417 - loss: 0.6328 - val_accuracy: 0.6530 - val_loss: 0.6201\n",
            "Epoch 5/50\n",
            "\u001b[1m267/267\u001b[0m \u001b[32m━━━━━━━━━━━━━━━━━━━━\u001b[0m\u001b[37m\u001b[0m \u001b[1m1s\u001b[0m 4ms/step - accuracy: 0.6493 - loss: 0.6293 - val_accuracy: 0.6547 - val_loss: 0.6188\n",
            "Epoch 6/50\n",
            "\u001b[1m267/267\u001b[0m \u001b[32m━━━━━━━━━━━━━━━━━━━━\u001b[0m\u001b[37m\u001b[0m \u001b[1m1s\u001b[0m 3ms/step - accuracy: 0.6539 - loss: 0.6233 - val_accuracy: 0.6568 - val_loss: 0.6183\n",
            "Epoch 7/50\n",
            "\u001b[1m267/267\u001b[0m \u001b[32m━━━━━━━━━━━━━━━━━━━━\u001b[0m\u001b[37m\u001b[0m \u001b[1m1s\u001b[0m 3ms/step - accuracy: 0.6578 - loss: 0.6196 - val_accuracy: 0.6556 - val_loss: 0.6179\n",
            "Epoch 8/50\n",
            "\u001b[1m267/267\u001b[0m \u001b[32m━━━━━━━━━━━━━━━━━━━━\u001b[0m\u001b[37m\u001b[0m \u001b[1m1s\u001b[0m 3ms/step - accuracy: 0.6547 - loss: 0.6225 - val_accuracy: 0.6573 - val_loss: 0.6176\n",
            "Epoch 9/50\n",
            "\u001b[1m267/267\u001b[0m \u001b[32m━━━━━━━━━━━━━━━━━━━━\u001b[0m\u001b[37m\u001b[0m \u001b[1m1s\u001b[0m 3ms/step - accuracy: 0.6679 - loss: 0.6132 - val_accuracy: 0.6563 - val_loss: 0.6169\n",
            "Epoch 10/50\n",
            "\u001b[1m267/267\u001b[0m \u001b[32m━━━━━━━━━━━━━━━━━━━━\u001b[0m\u001b[37m\u001b[0m \u001b[1m1s\u001b[0m 3ms/step - accuracy: 0.6618 - loss: 0.6141 - val_accuracy: 0.6559 - val_loss: 0.6171\n",
            "Epoch 11/50\n",
            "\u001b[1m267/267\u001b[0m \u001b[32m━━━━━━━━━━━━━━━━━━━━\u001b[0m\u001b[37m\u001b[0m \u001b[1m1s\u001b[0m 3ms/step - accuracy: 0.6611 - loss: 0.6167 - val_accuracy: 0.6570 - val_loss: 0.6166\n",
            "Epoch 12/50\n",
            "\u001b[1m267/267\u001b[0m \u001b[32m━━━━━━━━━━━━━━━━━━━━\u001b[0m\u001b[37m\u001b[0m \u001b[1m1s\u001b[0m 3ms/step - accuracy: 0.6624 - loss: 0.6148 - val_accuracy: 0.6575 - val_loss: 0.6161\n",
            "Epoch 13/50\n",
            "\u001b[1m267/267\u001b[0m \u001b[32m━━━━━━━━━━━━━━━━━━━━\u001b[0m\u001b[37m\u001b[0m \u001b[1m1s\u001b[0m 3ms/step - accuracy: 0.6626 - loss: 0.6133 - val_accuracy: 0.6587 - val_loss: 0.6154\n",
            "Epoch 14/50\n",
            "\u001b[1m267/267\u001b[0m \u001b[32m━━━━━━━━━━━━━━━━━━━━\u001b[0m\u001b[37m\u001b[0m \u001b[1m1s\u001b[0m 3ms/step - accuracy: 0.6646 - loss: 0.6132 - val_accuracy: 0.6547 - val_loss: 0.6152\n",
            "Epoch 15/50\n",
            "\u001b[1m267/267\u001b[0m \u001b[32m━━━━━━━━━━━━━━━━━━━━\u001b[0m\u001b[37m\u001b[0m \u001b[1m2s\u001b[0m 4ms/step - accuracy: 0.6641 - loss: 0.6102 - val_accuracy: 0.6542 - val_loss: 0.6152\n",
            "Epoch 16/50\n",
            "\u001b[1m267/267\u001b[0m \u001b[32m━━━━━━━━━━━━━━━━━━━━\u001b[0m\u001b[37m\u001b[0m \u001b[1m1s\u001b[0m 4ms/step - accuracy: 0.6656 - loss: 0.6102 - val_accuracy: 0.6582 - val_loss: 0.6150\n",
            "Epoch 17/50\n",
            "\u001b[1m267/267\u001b[0m \u001b[32m━━━━━━━━━━━━━━━━━━━━\u001b[0m\u001b[37m\u001b[0m \u001b[1m1s\u001b[0m 3ms/step - accuracy: 0.6689 - loss: 0.6081 - val_accuracy: 0.6526 - val_loss: 0.6153\n",
            "Epoch 18/50\n",
            "\u001b[1m267/267\u001b[0m \u001b[32m━━━━━━━━━━━━━━━━━━━━\u001b[0m\u001b[37m\u001b[0m \u001b[1m1s\u001b[0m 3ms/step - accuracy: 0.6648 - loss: 0.6132 - val_accuracy: 0.6521 - val_loss: 0.6153\n",
            "Epoch 19/50\n",
            "\u001b[1m267/267\u001b[0m \u001b[32m━━━━━━━━━━━━━━━━━━━━\u001b[0m\u001b[37m\u001b[0m \u001b[1m1s\u001b[0m 3ms/step - accuracy: 0.6634 - loss: 0.6123 - val_accuracy: 0.6568 - val_loss: 0.6149\n",
            "Epoch 20/50\n",
            "\u001b[1m267/267\u001b[0m \u001b[32m━━━━━━━━━━━━━━━━━━━━\u001b[0m\u001b[37m\u001b[0m \u001b[1m1s\u001b[0m 3ms/step - accuracy: 0.6678 - loss: 0.6104 - val_accuracy: 0.6530 - val_loss: 0.6146\n",
            "Epoch 21/50\n",
            "\u001b[1m267/267\u001b[0m \u001b[32m━━━━━━━━━━━━━━━━━━━━\u001b[0m\u001b[37m\u001b[0m \u001b[1m1s\u001b[0m 3ms/step - accuracy: 0.6696 - loss: 0.6078 - val_accuracy: 0.6580 - val_loss: 0.6144\n",
            "Epoch 22/50\n",
            "\u001b[1m267/267\u001b[0m \u001b[32m━━━━━━━━━━━━━━━━━━━━\u001b[0m\u001b[37m\u001b[0m \u001b[1m1s\u001b[0m 3ms/step - accuracy: 0.6631 - loss: 0.6115 - val_accuracy: 0.6575 - val_loss: 0.6146\n",
            "Epoch 23/50\n",
            "\u001b[1m267/267\u001b[0m \u001b[32m━━━━━━━━━━━━━━━━━━━━\u001b[0m\u001b[37m\u001b[0m \u001b[1m1s\u001b[0m 3ms/step - accuracy: 0.6688 - loss: 0.6073 - val_accuracy: 0.6587 - val_loss: 0.6141\n",
            "Epoch 24/50\n",
            "\u001b[1m267/267\u001b[0m \u001b[32m━━━━━━━━━━━━━━━━━━━━\u001b[0m\u001b[37m\u001b[0m \u001b[1m1s\u001b[0m 3ms/step - accuracy: 0.6681 - loss: 0.6090 - val_accuracy: 0.6584 - val_loss: 0.6149\n",
            "Epoch 25/50\n",
            "\u001b[1m267/267\u001b[0m \u001b[32m━━━━━━━━━━━━━━━━━━━━\u001b[0m\u001b[37m\u001b[0m \u001b[1m1s\u001b[0m 3ms/step - accuracy: 0.6678 - loss: 0.6075 - val_accuracy: 0.6552 - val_loss: 0.6140\n",
            "Epoch 26/50\n",
            "\u001b[1m267/267\u001b[0m \u001b[32m━━━━━━━━━━━━━━━━━━━━\u001b[0m\u001b[37m\u001b[0m \u001b[1m1s\u001b[0m 3ms/step - accuracy: 0.6655 - loss: 0.6089 - val_accuracy: 0.6568 - val_loss: 0.6145\n",
            "Epoch 27/50\n",
            "\u001b[1m267/267\u001b[0m \u001b[32m━━━━━━━━━━━━━━━━━━━━\u001b[0m\u001b[37m\u001b[0m \u001b[1m1s\u001b[0m 4ms/step - accuracy: 0.6708 - loss: 0.6084 - val_accuracy: 0.6606 - val_loss: 0.6138\n",
            "Epoch 28/50\n",
            "\u001b[1m267/267\u001b[0m \u001b[32m━━━━━━━━━━━━━━━━━━━━\u001b[0m\u001b[37m\u001b[0m \u001b[1m2s\u001b[0m 7ms/step - accuracy: 0.6722 - loss: 0.6035 - val_accuracy: 0.6587 - val_loss: 0.6139\n",
            "Epoch 29/50\n",
            "\u001b[1m267/267\u001b[0m \u001b[32m━━━━━━━━━━━━━━━━━━━━\u001b[0m\u001b[37m\u001b[0m \u001b[1m2s\u001b[0m 7ms/step - accuracy: 0.6659 - loss: 0.6086 - val_accuracy: 0.6603 - val_loss: 0.6142\n",
            "Epoch 30/50\n",
            "\u001b[1m267/267\u001b[0m \u001b[32m━━━━━━━━━━━━━━━━━━━━\u001b[0m\u001b[37m\u001b[0m \u001b[1m1s\u001b[0m 4ms/step - accuracy: 0.6702 - loss: 0.6081 - val_accuracy: 0.6577 - val_loss: 0.6143\n",
            "Epoch 31/50\n",
            "\u001b[1m267/267\u001b[0m \u001b[32m━━━━━━━━━━━━━━━━━━━━\u001b[0m\u001b[37m\u001b[0m \u001b[1m1s\u001b[0m 4ms/step - accuracy: 0.6693 - loss: 0.6070 - val_accuracy: 0.6573 - val_loss: 0.6140\n",
            "Epoch 32/50\n",
            "\u001b[1m267/267\u001b[0m \u001b[32m━━━━━━━━━━━━━━━━━━━━\u001b[0m\u001b[37m\u001b[0m \u001b[1m2s\u001b[0m 6ms/step - accuracy: 0.6708 - loss: 0.6037 - val_accuracy: 0.6601 - val_loss: 0.6138\n",
            "Epoch 33/50\n",
            "\u001b[1m267/267\u001b[0m \u001b[32m━━━━━━━━━━━━━━━━━━━━\u001b[0m\u001b[37m\u001b[0m \u001b[1m2s\u001b[0m 4ms/step - accuracy: 0.6690 - loss: 0.6092 - val_accuracy: 0.6589 - val_loss: 0.6138\n",
            "Epoch 34/50\n",
            "\u001b[1m267/267\u001b[0m \u001b[32m━━━━━━━━━━━━━━━━━━━━\u001b[0m\u001b[37m\u001b[0m \u001b[1m1s\u001b[0m 4ms/step - accuracy: 0.6693 - loss: 0.6066 - val_accuracy: 0.6589 - val_loss: 0.6135\n",
            "Epoch 35/50\n",
            "\u001b[1m267/267\u001b[0m \u001b[32m━━━━━━━━━━━━━━━━━━━━\u001b[0m\u001b[37m\u001b[0m \u001b[1m1s\u001b[0m 4ms/step - accuracy: 0.6706 - loss: 0.6056 - val_accuracy: 0.6542 - val_loss: 0.6144\n",
            "Epoch 36/50\n",
            "\u001b[1m267/267\u001b[0m \u001b[32m━━━━━━━━━━━━━━━━━━━━\u001b[0m\u001b[37m\u001b[0m \u001b[1m2s\u001b[0m 7ms/step - accuracy: 0.6685 - loss: 0.6048 - val_accuracy: 0.6596 - val_loss: 0.6132\n",
            "Epoch 37/50\n",
            "\u001b[1m267/267\u001b[0m \u001b[32m━━━━━━━━━━━━━━━━━━━━\u001b[0m\u001b[37m\u001b[0m \u001b[1m2s\u001b[0m 6ms/step - accuracy: 0.6702 - loss: 0.6057 - val_accuracy: 0.6603 - val_loss: 0.6136\n",
            "Epoch 38/50\n",
            "\u001b[1m267/267\u001b[0m \u001b[32m━━━━━━━━━━━━━━━━━━━━\u001b[0m\u001b[37m\u001b[0m \u001b[1m2s\u001b[0m 7ms/step - accuracy: 0.6652 - loss: 0.6083 - val_accuracy: 0.6570 - val_loss: 0.6137\n",
            "Epoch 39/50\n",
            "\u001b[1m267/267\u001b[0m \u001b[32m━━━━━━━━━━━━━━━━━━━━\u001b[0m\u001b[37m\u001b[0m \u001b[1m1s\u001b[0m 4ms/step - accuracy: 0.6733 - loss: 0.6065 - val_accuracy: 0.6512 - val_loss: 0.6137\n",
            "Epoch 40/50\n",
            "\u001b[1m267/267\u001b[0m \u001b[32m━━━━━━━━━━━━━━━━━━━━\u001b[0m\u001b[37m\u001b[0m \u001b[1m1s\u001b[0m 4ms/step - accuracy: 0.6657 - loss: 0.6114 - val_accuracy: 0.6563 - val_loss: 0.6141\n",
            "Epoch 41/50\n",
            "\u001b[1m267/267\u001b[0m \u001b[32m━━━━━━━━━━━━━━━━━━━━\u001b[0m\u001b[37m\u001b[0m \u001b[1m1s\u001b[0m 5ms/step - accuracy: 0.6751 - loss: 0.6043 - val_accuracy: 0.6566 - val_loss: 0.6137\n",
            "Epoch 42/50\n",
            "\u001b[1m267/267\u001b[0m \u001b[32m━━━━━━━━━━━━━━━━━━━━\u001b[0m\u001b[37m\u001b[0m \u001b[1m1s\u001b[0m 4ms/step - accuracy: 0.6700 - loss: 0.6041 - val_accuracy: 0.6606 - val_loss: 0.6131\n",
            "Epoch 43/50\n",
            "\u001b[1m267/267\u001b[0m \u001b[32m━━━━━━━━━━━━━━━━━━━━\u001b[0m\u001b[37m\u001b[0m \u001b[1m2s\u001b[0m 5ms/step - accuracy: 0.6707 - loss: 0.6058 - val_accuracy: 0.6599 - val_loss: 0.6132\n",
            "Epoch 44/50\n",
            "\u001b[1m267/267\u001b[0m \u001b[32m━━━━━━━━━━━━━━━━━━━━\u001b[0m\u001b[37m\u001b[0m \u001b[1m1s\u001b[0m 4ms/step - accuracy: 0.6662 - loss: 0.6086 - val_accuracy: 0.6587 - val_loss: 0.6133\n",
            "Epoch 45/50\n",
            "\u001b[1m267/267\u001b[0m \u001b[32m━━━━━━━━━━━━━━━━━━━━\u001b[0m\u001b[37m\u001b[0m \u001b[1m1s\u001b[0m 4ms/step - accuracy: 0.6696 - loss: 0.6077 - val_accuracy: 0.6554 - val_loss: 0.6134\n",
            "Epoch 46/50\n",
            "\u001b[1m267/267\u001b[0m \u001b[32m━━━━━━━━━━━━━━━━━━━━\u001b[0m\u001b[37m\u001b[0m \u001b[1m2s\u001b[0m 6ms/step - accuracy: 0.6632 - loss: 0.6089 - val_accuracy: 0.6552 - val_loss: 0.6135\n",
            "Epoch 47/50\n",
            "\u001b[1m267/267\u001b[0m \u001b[32m━━━━━━━━━━━━━━━━━━━━\u001b[0m\u001b[37m\u001b[0m \u001b[1m1s\u001b[0m 5ms/step - accuracy: 0.6675 - loss: 0.6076 - val_accuracy: 0.6570 - val_loss: 0.6133\n",
            "Epoch 48/50\n",
            "\u001b[1m267/267\u001b[0m \u001b[32m━━━━━━━━━━━━━━━━━━━━\u001b[0m\u001b[37m\u001b[0m \u001b[1m1s\u001b[0m 4ms/step - accuracy: 0.6710 - loss: 0.6034 - val_accuracy: 0.6591 - val_loss: 0.6128\n",
            "Epoch 49/50\n",
            "\u001b[1m267/267\u001b[0m \u001b[32m━━━━━━━━━━━━━━━━━━━━\u001b[0m\u001b[37m\u001b[0m \u001b[1m1s\u001b[0m 3ms/step - accuracy: 0.6676 - loss: 0.6043 - val_accuracy: 0.6587 - val_loss: 0.6131\n",
            "Epoch 50/50\n",
            "\u001b[1m267/267\u001b[0m \u001b[32m━━━━━━━━━━━━━━━━━━━━\u001b[0m\u001b[37m\u001b[0m \u001b[1m1s\u001b[0m 4ms/step - accuracy: 0.6711 - loss: 0.6063 - val_accuracy: 0.6568 - val_loss: 0.6131\n",
            "\u001b[1m134/134\u001b[0m \u001b[32m━━━━━━━━━━━━━━━━━━━━\u001b[0m\u001b[37m\u001b[0m \u001b[1m1s\u001b[0m 7ms/step - accuracy: 0.6421 - loss: 0.6267\n"
          ]
        },
        {
          "output_type": "execute_result",
          "data": {
            "text/plain": [
              "[0.6216756105422974, 0.6470173597335815]"
            ]
          },
          "metadata": {},
          "execution_count": 42
        }
      ]
    },
    {
      "cell_type": "code",
      "source": [
        "# Plot the accuracy curve\n",
        "plt.plot(history.history['accuracy'], label='Train Accuracy')\n",
        "plt.plot(history.history['val_accuracy'], label='Validation Accuracy')\n",
        "plt.xlabel('Epochs')\n",
        "plt.ylabel('Accuracy')\n",
        "plt.legend()\n",
        "plt.title('Accuracy Curve')\n",
        "plt.show()"
      ],
      "metadata": {
        "colab": {
          "base_uri": "https://localhost:8080/",
          "height": 472
        },
        "id": "0MQkC4Vskr48",
        "outputId": "8a4381c9-d57a-4dfc-ebf7-93b932ce79d6"
      },
      "execution_count": 51,
      "outputs": [
        {
          "output_type": "display_data",
          "data": {
            "text/plain": [
              "<Figure size 640x480 with 1 Axes>"
            ],
            "image/png": "[encoded data removed]"
          },
          "metadata": {}
        }
      ]
    },
    {
      "cell_type": "markdown",
      "source": [
        "#### Neural Network (MLP) Results:\n",
        "\n",
        "Our Neural Network model achieved a final accuracy of approximately 64.7% (with a binary cross-entropy loss of ~0.622). While demonstrating the feasibility of a deep learning approach, this initial result achieve a worst accuracy than our tree-based models in terms of raw accuracy for this specific feature set and architecture."
      ],
      "metadata": {
        "id": "NDhINo91p36z"
      }
    }
  ],
  "metadata": {
    "colab": {
      "provenance": [],
      "gpuType": "T4"
    },
    "kernelspec": {
      "display_name": "Python 3",
      "name": "python3"
    },
    "accelerator": "GPU"
  },
  "nbformat": 4,
  "nbformat_minor": 0
}